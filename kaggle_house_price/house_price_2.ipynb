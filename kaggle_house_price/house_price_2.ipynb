{
 "cells": [
  {
   "cell_type": "code",
   "execution_count": 1,
   "metadata": {
    "collapsed": true
   },
   "outputs": [],
   "source": [
    "import numpy as np\n",
    "import pandas as pd\n",
    "import xgboost as xgb\n",
    "from sklearn import preprocessing\n",
    "from sklearn import model_selection"
   ]
  },
  {
   "cell_type": "code",
   "execution_count": 3,
   "metadata": {
    "collapsed": true
   },
   "outputs": [],
   "source": [
    "train_df = pd.read_csv('data/train.csv')\n",
    "test_df = pd.read_csv('data/test.csv')\n",
    "\n",
    "raw_train_df = train_df.copy()\n",
    "raw_test_df = test_df.copy()"
   ]
  },
  {
   "cell_type": "code",
   "execution_count": 4,
   "metadata": {},
   "outputs": [
    {
     "data": {
      "text/plain": [
       "Index(['Id', 'MSSubClass', 'LotFrontage', 'LotArea', 'OverallQual',\n",
       "       'OverallCond', 'YearBuilt', 'YearRemodAdd', 'MasVnrArea', 'BsmtFinSF1',\n",
       "       ...\n",
       "       'SaleType_ConLw', 'SaleType_New', 'SaleType_Oth', 'SaleType_WD',\n",
       "       'SaleCondition_Abnorml', 'SaleCondition_AdjLand',\n",
       "       'SaleCondition_Alloca', 'SaleCondition_Family', 'SaleCondition_Normal',\n",
       "       'SaleCondition_Partial'],\n",
       "      dtype='object', length=289)"
      ]
     },
     "execution_count": 4,
     "metadata": {},
     "output_type": "execute_result"
    }
   ],
   "source": [
    "price = np.log(train_df.pop('SalePrice')+1)\n",
    "all_df = pd.concat([train_df, test_df])\n",
    "\n",
    "all_dummies = pd.get_dummies(all_df)\n",
    "all_dummies.columns"
   ]
  },
  {
   "cell_type": "code",
   "execution_count": 12,
   "metadata": {
    "collapsed": true
   },
   "outputs": [],
   "source": [
    "number_columns = all_dummies.columns[(all_dummies.dtypes != 'flat64').values]"
   ]
  },
  {
   "cell_type": "code",
   "execution_count": 23,
   "metadata": {},
   "outputs": [
    {
     "name": "stdout",
     "output_type": "stream",
     "text": [
      "Id                         int64\n",
      "MSSubClass                 int64\n",
      "LotFrontage              float64\n",
      "LotArea                    int64\n",
      "OverallQual                int64\n",
      "OverallCond                int64\n",
      "YearBuilt                  int64\n",
      "YearRemodAdd               int64\n",
      "MasVnrArea               float64\n",
      "BsmtFinSF1               float64\n",
      "BsmtFinSF2               float64\n",
      "BsmtUnfSF                float64\n",
      "TotalBsmtSF              float64\n",
      "1stFlrSF                   int64\n",
      "2ndFlrSF                   int64\n",
      "LowQualFinSF               int64\n",
      "GrLivArea                  int64\n",
      "BsmtFullBath             float64\n",
      "BsmtHalfBath             float64\n",
      "FullBath                   int64\n",
      "HalfBath                   int64\n",
      "BedroomAbvGr               int64\n",
      "KitchenAbvGr               int64\n",
      "TotRmsAbvGrd               int64\n",
      "Fireplaces                 int64\n",
      "GarageYrBlt              float64\n",
      "GarageCars               float64\n",
      "GarageArea               float64\n",
      "WoodDeckSF                 int64\n",
      "OpenPorchSF                int64\n",
      "                          ...   \n",
      "GarageCond_TA              uint8\n",
      "PavedDrive_N               uint8\n",
      "PavedDrive_P               uint8\n",
      "PavedDrive_Y               uint8\n",
      "PoolQC_Ex                  uint8\n",
      "PoolQC_Fa                  uint8\n",
      "PoolQC_Gd                  uint8\n",
      "Fence_GdPrv                uint8\n",
      "Fence_GdWo                 uint8\n",
      "Fence_MnPrv                uint8\n",
      "Fence_MnWw                 uint8\n",
      "MiscFeature_Gar2           uint8\n",
      "MiscFeature_Othr           uint8\n",
      "MiscFeature_Shed           uint8\n",
      "MiscFeature_TenC           uint8\n",
      "SaleType_COD               uint8\n",
      "SaleType_CWD               uint8\n",
      "SaleType_Con               uint8\n",
      "SaleType_ConLD             uint8\n",
      "SaleType_ConLI             uint8\n",
      "SaleType_ConLw             uint8\n",
      "SaleType_New               uint8\n",
      "SaleType_Oth               uint8\n",
      "SaleType_WD                uint8\n",
      "SaleCondition_Abnorml      uint8\n",
      "SaleCondition_AdjLand      uint8\n",
      "SaleCondition_Alloca       uint8\n",
      "SaleCondition_Family       uint8\n",
      "SaleCondition_Normal       uint8\n",
      "SaleCondition_Partial      uint8\n",
      "Length: 289, dtype: object\n"
     ]
    },
    {
     "data": {
      "text/plain": [
       "Id                 int64\n",
       "MSSubClass         int64\n",
       "MSZoning          object\n",
       "LotFrontage      float64\n",
       "LotArea            int64\n",
       "Street            object\n",
       "Alley             object\n",
       "LotShape          object\n",
       "LandContour       object\n",
       "Utilities         object\n",
       "LotConfig         object\n",
       "LandSlope         object\n",
       "Neighborhood      object\n",
       "Condition1        object\n",
       "Condition2        object\n",
       "BldgType          object\n",
       "HouseStyle        object\n",
       "OverallQual        int64\n",
       "OverallCond        int64\n",
       "YearBuilt          int64\n",
       "YearRemodAdd       int64\n",
       "RoofStyle         object\n",
       "RoofMatl          object\n",
       "Exterior1st       object\n",
       "Exterior2nd       object\n",
       "MasVnrType        object\n",
       "MasVnrArea       float64\n",
       "ExterQual         object\n",
       "ExterCond         object\n",
       "Foundation        object\n",
       "                  ...   \n",
       "HalfBath           int64\n",
       "BedroomAbvGr       int64\n",
       "KitchenAbvGr       int64\n",
       "KitchenQual       object\n",
       "TotRmsAbvGrd       int64\n",
       "Functional        object\n",
       "Fireplaces         int64\n",
       "FireplaceQu       object\n",
       "GarageType        object\n",
       "GarageYrBlt      float64\n",
       "GarageFinish      object\n",
       "GarageCars       float64\n",
       "GarageArea       float64\n",
       "GarageQual        object\n",
       "GarageCond        object\n",
       "PavedDrive        object\n",
       "WoodDeckSF         int64\n",
       "OpenPorchSF        int64\n",
       "EnclosedPorch      int64\n",
       "3SsnPorch          int64\n",
       "ScreenPorch        int64\n",
       "PoolArea           int64\n",
       "PoolQC            object\n",
       "Fence             object\n",
       "MiscFeature       object\n",
       "MiscVal            int64\n",
       "MoSold             int64\n",
       "YrSold             int64\n",
       "SaleType          object\n",
       "SaleCondition     object\n",
       "Length: 80, dtype: object"
      ]
     },
     "execution_count": 23,
     "metadata": {},
     "output_type": "execute_result"
    }
   ],
   "source": [
    "print(all_dummies.dtypes)\n",
    "all_df.dtypes"
   ]
  },
  {
   "cell_type": "code",
   "execution_count": 22,
   "metadata": {},
   "outputs": [
    {
     "name": "stdout",
     "output_type": "stream",
     "text": [
      "<class 'pandas.core.series.Series'>\n",
      "PoolQC           1453\n",
      "MiscFeature      1406\n",
      "Alley            1369\n",
      "Fence            1179\n",
      "FireplaceQu       690\n",
      "LotFrontage       259\n",
      "GarageCond         81\n",
      "GarageType         81\n",
      "GarageYrBlt        81\n",
      "GarageFinish       81\n",
      "GarageQual         81\n",
      "BsmtExposure       38\n",
      "BsmtFinType2       38\n",
      "BsmtFinType1       37\n",
      "BsmtCond           37\n",
      "BsmtQual           37\n",
      "MasVnrArea          8\n",
      "MasVnrType          8\n",
      "Electrical          1\n",
      "Utilities           0\n",
      "YearRemodAdd        0\n",
      "MSSubClass          0\n",
      "Foundation          0\n",
      "ExterCond           0\n",
      "ExterQual           0\n",
      "Exterior2nd         0\n",
      "Exterior1st         0\n",
      "RoofMatl            0\n",
      "RoofStyle           0\n",
      "YearBuilt           0\n",
      "                 ... \n",
      "GarageArea          0\n",
      "PavedDrive          0\n",
      "WoodDeckSF          0\n",
      "OpenPorchSF         0\n",
      "3SsnPorch           0\n",
      "BsmtUnfSF           0\n",
      "ScreenPorch         0\n",
      "PoolArea            0\n",
      "MiscVal             0\n",
      "MoSold              0\n",
      "YrSold              0\n",
      "SaleType            0\n",
      "Functional          0\n",
      "TotRmsAbvGrd        0\n",
      "KitchenQual         0\n",
      "KitchenAbvGr        0\n",
      "BedroomAbvGr        0\n",
      "HalfBath            0\n",
      "FullBath            0\n",
      "BsmtHalfBath        0\n",
      "BsmtFullBath        0\n",
      "GrLivArea           0\n",
      "LowQualFinSF        0\n",
      "2ndFlrSF            0\n",
      "1stFlrSF            0\n",
      "CentralAir          0\n",
      "SaleCondition       0\n",
      "Heating             0\n",
      "TotalBsmtSF         0\n",
      "Id                  0\n",
      "Length: 81, dtype: int64\n",
      "Index(['PoolQC', 'MiscFeature', 'Alley', 'Fence', 'FireplaceQu', 'LotFrontage',\n",
      "       'GarageCond', 'GarageType', 'GarageYrBlt', 'GarageFinish', 'GarageQual',\n",
      "       'BsmtExposure', 'BsmtFinType2', 'BsmtFinType1', 'BsmtCond', 'BsmtQual',\n",
      "       'MasVnrArea', 'MasVnrType', 'Electrical'],\n",
      "      dtype='object')\n",
      "PoolQC           object\n",
      "MiscFeature      object\n",
      "Alley            object\n",
      "Fence            object\n",
      "FireplaceQu      object\n",
      "LotFrontage     float64\n",
      "GarageCond       object\n",
      "GarageType       object\n",
      "GarageYrBlt     float64\n",
      "GarageFinish     object\n",
      "GarageQual       object\n",
      "BsmtExposure     object\n",
      "BsmtFinType2     object\n",
      "BsmtFinType1     object\n",
      "BsmtCond         object\n",
      "BsmtQual         object\n",
      "MasVnrArea      float64\n",
      "MasVnrType       object\n",
      "Electrical       object\n",
      "dtype: object\n"
     ]
    }
   ],
   "source": [
    "print(type(raw_train_df.isnull().sum()))\n",
    "Ser = raw_train_df.isnull().sum().sort_values(ascending=False)\n",
    "print(Ser)\n",
    "print(Ser.index[Ser.values!=0])\n",
    "notnull_column = Ser.index[Ser.values!=0]\n",
    "print(all_df[notnull_column].dtypes)"
   ]
  },
  {
   "cell_type": "code",
   "execution_count": null,
   "metadata": {
    "collapsed": true
   },
   "outputs": [],
   "source": []
  },
  {
   "cell_type": "code",
   "execution_count": null,
   "metadata": {
    "collapsed": true
   },
   "outputs": [],
   "source": []
  },
  {
   "cell_type": "code",
   "execution_count": null,
   "metadata": {
    "collapsed": true
   },
   "outputs": [],
   "source": []
  },
  {
   "cell_type": "code",
   "execution_count": 26,
   "metadata": {},
   "outputs": [
    {
     "data": {
      "text/plain": [
       "GridSearchCV(cv=None, error_score='raise',\n",
       "       estimator=XGBRegressor(base_score=0.5, booster='gbtree', colsample_bylevel=1,\n",
       "       colsample_bytree=1, gamma=0, learning_rate=0.1, max_delta_step=0,\n",
       "       max_depth=3, min_child_weight=1, missing=None, n_estimators=100,\n",
       "       n_jobs=1, nthread=None, objective='reg:linear', random_state=0,\n",
       "       reg_alpha=0, reg_lambda=1, scale_pos_weight=1, seed=None,\n",
       "       silent=True, subsample=1),\n",
       "       fit_params=None, iid=True, n_jobs=1,\n",
       "       param_grid={'max_depth': [2, 3, 4, 5], 'learning_rate': [0.01, 0.1, 1], 'n_estimators': [50, 100, 150, 200]},\n",
       "       pre_dispatch='2*n_jobs', refit=True, return_train_score=True,\n",
       "       scoring='neg_mean_squared_error', verbose=0)"
      ]
     },
     "execution_count": 26,
     "metadata": {},
     "output_type": "execute_result"
    }
   ],
   "source": [
    "import numpy as np\n",
    "import pandas as pd\n",
    "import xgboost as xgb\n",
    "from sklearn import preprocessing\n",
    "from sklearn import model_selection\n",
    "from sklearn.metrics import regression\n",
    "import matplotlib.pyplot as plt\n",
    "\n",
    "\n",
    "train_df = pd.read_csv('data/train.csv', index_col=0)  #直接把Id当成索引了\n",
    "test_df = pd.read_csv('data/test.csv', index_col=0)\n",
    "\n",
    "raw_train_df = train_df.copy()\n",
    "raw_test_df = test_df.copy()\n",
    "\n",
    "price = np.log(train_df.pop('SalePrice')+1)\n",
    "\n",
    "all_df = pd.concat([train_df, test_df])\n",
    "discard_columns = ['Alley', 'PoolQC', 'MiscFeature', 'Fence', 'FireplaceQu']\n",
    "all_df.drop(all_df[discard_columns], axis=1, inplace=True)\n",
    "\n",
    "\n",
    "all_dummies = pd.get_dummies(all_df)\n",
    "\n",
    "number_columns = all_df.columns[(all_df.dtypes != 'object').values]\n",
    "\n",
    "mean_series = all_dummies.mean(axis=0)\n",
    "\n",
    "all_dummies.fillna(mean_series, axis=0, inplace=True)\n",
    "\n",
    "#没有缺失数据了\n",
    "\n",
    "scaler = preprocessing.StandardScaler()\n",
    "\n",
    "# para = scaler.fit((all_dummies.loc[:, number_columns]))\n",
    "scaled_df = scaler.fit_transform(all_dummies.loc[:, number_columns])\n",
    "all_dummies.loc[:, number_columns] = scaled_df\n",
    "# number_columns.\n",
    "\n",
    "train_df, test_df = all_dummies.loc[train_df.index], all_dummies.loc[test_df.index]\n",
    "xgb_model = xgb.XGBRegressor()\n",
    "\n",
    "x_train = train_df.values\n",
    "y_test = test_df.values\n",
    "\n",
    "para_ = {'max_depth' : [2, 3, 4, 5], 'learning_rate':[0.01, 0.1, 1], 'n_estimators':[50, 100, 150, 200]}\n",
    "para_search_model = model_selection.GridSearchCV(xgb_model, param_grid=para_, scoring='neg_mean_squared_error')\n",
    "para_search_model.fit(x_train, price)"
   ]
  },
  {
   "cell_type": "code",
   "execution_count": 31,
   "metadata": {},
   "outputs": [
    {
     "data": {
      "text/plain": [
       "{'mean_fit_time': array([ 0.16166679,  0.38666662,  0.57233342,  0.77033337,  0.16033324,\n",
       "         0.36133321,  0.63166666,  0.92933321,  0.15866653,  0.36833342,\n",
       "         0.63366675,  0.95766671,  0.15833338,  0.36199999,  0.61733325,\n",
       "         0.97400014,  0.20799979,  0.41166679,  0.61333354,  0.81599998,\n",
       "         0.27499994,  0.56366666,  0.85199992,  1.14300005,  0.3343335 ,\n",
       "         0.71266691,  1.08866652,  1.47633338,  0.38999987,  0.85966667,\n",
       "         1.32733329,  1.79033335,  0.21233336,  0.4156665 ,  0.61666663,\n",
       "         0.82000009,  0.29766663,  0.62166667,  0.89100011,  1.18766658,\n",
       "         0.38833332,  0.82233334,  1.32466666,  1.49500004,  0.52600002,\n",
       "         1.01533326,  1.13733331,  1.26833328]),\n",
       " 'mean_score_time': array([ 0.00299994,  0.00300002,  0.0030001 ,  0.00333333,  0.00300002,\n",
       "         0.00266663,  0.00299994,  0.00366672,  0.00300002,  0.00333333,\n",
       "         0.00333325,  0.00366672,  0.00233332,  0.00300018,  0.0030001 ,\n",
       "         0.00366656,  0.00333341,  0.00366664,  0.00366648,  0.00400019,\n",
       "         0.00333341,  0.00400011,  0.00400003,  0.00433326,  0.00333333,\n",
       "         0.00399987,  0.00466673,  0.00533334,  0.00333341,  0.00466665,\n",
       "         0.00533319,  0.00633343,  0.0030001 ,  0.00333349,  0.00399987,\n",
       "         0.00433326,  0.00333333,  0.00400011,  0.00433326,  0.00500003,\n",
       "         0.00333333,  0.00533319,  0.00566673,  0.00533326,  0.00400003,\n",
       "         0.00499996,  0.00500003,  0.00533342]),\n",
       " 'mean_test_score': array([ -4.88162333e+01,  -1.79528057e+01,  -6.62455716e+00,\n",
       "         -2.45882312e+00,  -4.88162333e+01,  -1.79528057e+01,\n",
       "         -6.62445196e+00,  -2.45807898e+00,  -4.88162333e+01,\n",
       "         -1.79528057e+01,  -6.62448041e+00,  -2.45826364e+00,\n",
       "         -4.88162333e+01,  -1.79528057e+01,  -6.62448041e+00,\n",
       "         -2.45843132e+00,  -2.71288428e-02,  -1.82537271e-02,\n",
       "         -1.68552790e-02,  -1.62617599e-02,  -2.48320662e-02,\n",
       "         -1.74993851e-02,  -1.68165483e-02,  -1.64895180e-02,\n",
       "         -2.37229660e-02,  -1.71033829e-02,  -1.66285537e-02,\n",
       "         -1.64737725e-02,  -2.36815310e-02,  -1.72713864e-02,\n",
       "         -1.68596809e-02,  -1.67030349e-02,  -2.63273777e-02,\n",
       "         -2.50701618e-02,  -2.48808432e-02,  -2.48289899e-02,\n",
       "         -3.27075729e-02,  -3.26951584e-02,  -3.29934825e-02,\n",
       "         -3.29058518e-02,  -3.67461251e-02,  -3.69419224e-02,\n",
       "         -3.68850895e-02,  -3.68908524e-02,  -3.90863868e-02,\n",
       "         -3.90784033e-02,  -3.90784033e-02,  -3.90784033e-02]),\n",
       " 'mean_train_score': array([ -4.88167286e+01,  -1.79557962e+01,  -6.62624583e+00,\n",
       "         -2.45916099e+00,  -4.88167286e+01,  -1.79557962e+01,\n",
       "         -6.62622943e+00,  -2.45859865e+00,  -4.88167286e+01,\n",
       "         -1.79557962e+01,  -6.62622094e+00,  -2.45853674e+00,\n",
       "         -4.88167286e+01,  -1.79557962e+01,  -6.62622094e+00,\n",
       "         -2.45852612e+00,  -2.11637178e-02,  -1.07977424e-02,\n",
       "         -8.61338774e-03,  -7.36078211e-03,  -1.55193947e-02,\n",
       "         -6.61842793e-03,  -4.79089256e-03,  -3.74667349e-03,\n",
       "         -1.27588795e-02,  -3.99587518e-03,  -2.49740758e-03,\n",
       "         -1.64299985e-03,  -1.09787778e-02,  -2.36388936e-03,\n",
       "         -1.18710730e-03,  -6.60585737e-04,  -6.76335165e-03,\n",
       "         -3.06061201e-03,  -1.61094975e-03,  -9.04852420e-04,\n",
       "         -2.58137492e-03,  -4.83307081e-04,  -1.13362900e-04,\n",
       "         -2.76226004e-05,  -4.96999066e-04,  -2.30050248e-05,\n",
       "         -1.21890195e-06,  -5.03221071e-07,  -4.43452851e-05,\n",
       "         -4.12718783e-07,  -4.12718783e-07,  -4.12718783e-07]),\n",
       " 'param_learning_rate': masked_array(data = [0.01 0.01 0.01 0.01 0.01 0.01 0.01 0.01 0.01 0.01 0.01 0.01 0.01 0.01 0.01\n",
       "  0.01 0.1 0.1 0.1 0.1 0.1 0.1 0.1 0.1 0.1 0.1 0.1 0.1 0.1 0.1 0.1 0.1 1 1 1\n",
       "  1 1 1 1 1 1 1 1 1 1 1 1 1],\n",
       "              mask = [False False False False False False False False False False False False\n",
       "  False False False False False False False False False False False False\n",
       "  False False False False False False False False False False False False\n",
       "  False False False False False False False False False False False False],\n",
       "        fill_value = ?),\n",
       " 'param_max_depth': masked_array(data = [2 2 2 2 3 3 3 3 4 4 4 4 5 5 5 5 2 2 2 2 3 3 3 3 4 4 4 4 5 5 5 5 2 2 2 2 3\n",
       "  3 3 3 4 4 4 4 5 5 5 5],\n",
       "              mask = [False False False False False False False False False False False False\n",
       "  False False False False False False False False False False False False\n",
       "  False False False False False False False False False False False False\n",
       "  False False False False False False False False False False False False],\n",
       "        fill_value = ?),\n",
       " 'param_n_estimators': masked_array(data = [50 100 150 200 50 100 150 200 50 100 150 200 50 100 150 200 50 100 150 200\n",
       "  50 100 150 200 50 100 150 200 50 100 150 200 50 100 150 200 50 100 150 200\n",
       "  50 100 150 200 50 100 150 200],\n",
       "              mask = [False False False False False False False False False False False False\n",
       "  False False False False False False False False False False False False\n",
       "  False False False False False False False False False False False False\n",
       "  False False False False False False False False False False False False],\n",
       "        fill_value = ?),\n",
       " 'params': [{'learning_rate': 0.01, 'max_depth': 2, 'n_estimators': 50},\n",
       "  {'learning_rate': 0.01, 'max_depth': 2, 'n_estimators': 100},\n",
       "  {'learning_rate': 0.01, 'max_depth': 2, 'n_estimators': 150},\n",
       "  {'learning_rate': 0.01, 'max_depth': 2, 'n_estimators': 200},\n",
       "  {'learning_rate': 0.01, 'max_depth': 3, 'n_estimators': 50},\n",
       "  {'learning_rate': 0.01, 'max_depth': 3, 'n_estimators': 100},\n",
       "  {'learning_rate': 0.01, 'max_depth': 3, 'n_estimators': 150},\n",
       "  {'learning_rate': 0.01, 'max_depth': 3, 'n_estimators': 200},\n",
       "  {'learning_rate': 0.01, 'max_depth': 4, 'n_estimators': 50},\n",
       "  {'learning_rate': 0.01, 'max_depth': 4, 'n_estimators': 100},\n",
       "  {'learning_rate': 0.01, 'max_depth': 4, 'n_estimators': 150},\n",
       "  {'learning_rate': 0.01, 'max_depth': 4, 'n_estimators': 200},\n",
       "  {'learning_rate': 0.01, 'max_depth': 5, 'n_estimators': 50},\n",
       "  {'learning_rate': 0.01, 'max_depth': 5, 'n_estimators': 100},\n",
       "  {'learning_rate': 0.01, 'max_depth': 5, 'n_estimators': 150},\n",
       "  {'learning_rate': 0.01, 'max_depth': 5, 'n_estimators': 200},\n",
       "  {'learning_rate': 0.1, 'max_depth': 2, 'n_estimators': 50},\n",
       "  {'learning_rate': 0.1, 'max_depth': 2, 'n_estimators': 100},\n",
       "  {'learning_rate': 0.1, 'max_depth': 2, 'n_estimators': 150},\n",
       "  {'learning_rate': 0.1, 'max_depth': 2, 'n_estimators': 200},\n",
       "  {'learning_rate': 0.1, 'max_depth': 3, 'n_estimators': 50},\n",
       "  {'learning_rate': 0.1, 'max_depth': 3, 'n_estimators': 100},\n",
       "  {'learning_rate': 0.1, 'max_depth': 3, 'n_estimators': 150},\n",
       "  {'learning_rate': 0.1, 'max_depth': 3, 'n_estimators': 200},\n",
       "  {'learning_rate': 0.1, 'max_depth': 4, 'n_estimators': 50},\n",
       "  {'learning_rate': 0.1, 'max_depth': 4, 'n_estimators': 100},\n",
       "  {'learning_rate': 0.1, 'max_depth': 4, 'n_estimators': 150},\n",
       "  {'learning_rate': 0.1, 'max_depth': 4, 'n_estimators': 200},\n",
       "  {'learning_rate': 0.1, 'max_depth': 5, 'n_estimators': 50},\n",
       "  {'learning_rate': 0.1, 'max_depth': 5, 'n_estimators': 100},\n",
       "  {'learning_rate': 0.1, 'max_depth': 5, 'n_estimators': 150},\n",
       "  {'learning_rate': 0.1, 'max_depth': 5, 'n_estimators': 200},\n",
       "  {'learning_rate': 1, 'max_depth': 2, 'n_estimators': 50},\n",
       "  {'learning_rate': 1, 'max_depth': 2, 'n_estimators': 100},\n",
       "  {'learning_rate': 1, 'max_depth': 2, 'n_estimators': 150},\n",
       "  {'learning_rate': 1, 'max_depth': 2, 'n_estimators': 200},\n",
       "  {'learning_rate': 1, 'max_depth': 3, 'n_estimators': 50},\n",
       "  {'learning_rate': 1, 'max_depth': 3, 'n_estimators': 100},\n",
       "  {'learning_rate': 1, 'max_depth': 3, 'n_estimators': 150},\n",
       "  {'learning_rate': 1, 'max_depth': 3, 'n_estimators': 200},\n",
       "  {'learning_rate': 1, 'max_depth': 4, 'n_estimators': 50},\n",
       "  {'learning_rate': 1, 'max_depth': 4, 'n_estimators': 100},\n",
       "  {'learning_rate': 1, 'max_depth': 4, 'n_estimators': 150},\n",
       "  {'learning_rate': 1, 'max_depth': 4, 'n_estimators': 200},\n",
       "  {'learning_rate': 1, 'max_depth': 5, 'n_estimators': 50},\n",
       "  {'learning_rate': 1, 'max_depth': 5, 'n_estimators': 100},\n",
       "  {'learning_rate': 1, 'max_depth': 5, 'n_estimators': 150},\n",
       "  {'learning_rate': 1, 'max_depth': 5, 'n_estimators': 200}],\n",
       " 'rank_test_score': array([45, 41, 40, 36, 45, 41, 37, 33, 45, 41, 38, 34, 45, 41, 38, 35, 20,\n",
       "        12,  7,  1, 16, 11,  6,  3, 14,  9,  4,  2, 13, 10,  8,  5, 19, 18,\n",
       "        17, 15, 22, 21, 24, 23, 25, 28, 26, 27, 32, 29, 29, 29]),\n",
       " 'split0_test_score': array([ -4.90128243e+01,  -1.80626739e+01,  -6.68216826e+00,\n",
       "         -2.48868530e+00,  -4.90128243e+01,  -1.80626739e+01,\n",
       "         -6.68205199e+00,  -2.48845048e+00,  -4.90128243e+01,\n",
       "         -1.80626739e+01,  -6.68205199e+00,  -2.48798741e+00,\n",
       "         -4.90128243e+01,  -1.80626739e+01,  -6.68205199e+00,\n",
       "         -2.48798741e+00,  -2.55180641e-02,  -1.54446804e-02,\n",
       "         -1.41263405e-02,  -1.33007638e-02,  -2.24238132e-02,\n",
       "         -1.42340300e-02,  -1.33074309e-02,  -1.30665241e-02,\n",
       "         -2.14182256e-02,  -1.41573237e-02,  -1.36485219e-02,\n",
       "         -1.35426940e-02,  -2.13321974e-02,  -1.39359370e-02,\n",
       "         -1.33548224e-02,  -1.32640711e-02,  -2.26965659e-02,\n",
       "         -2.27616608e-02,  -2.22307632e-02,  -2.25575157e-02,\n",
       "         -2.66983097e-02,  -2.76724394e-02,  -2.79894875e-02,\n",
       "         -2.79557947e-02,  -3.47166858e-02,  -3.51107441e-02,\n",
       "         -3.50962352e-02,  -3.50755810e-02,  -3.32774398e-02,\n",
       "         -3.31447290e-02,  -3.31447290e-02,  -3.31447290e-02]),\n",
       " 'split0_train_score': array([ -4.87615832e+01,  -1.79366285e+01,  -6.61946732e+00,\n",
       "         -2.45712794e+00,  -4.87615832e+01,  -1.79366285e+01,\n",
       "         -6.61945694e+00,  -2.45653009e+00,  -4.87615832e+01,\n",
       "         -1.79366285e+01,  -6.61945694e+00,  -2.45647485e+00,\n",
       "         -4.87615832e+01,  -1.79366285e+01,  -6.61945694e+00,\n",
       "         -2.45647485e+00,  -2.17471752e-02,  -1.12402078e-02,\n",
       "         -9.14845631e-03,  -7.86172291e-03,  -1.58593253e-02,\n",
       "         -7.05136861e-03,  -5.19989486e-03,  -4.15367081e-03,\n",
       "         -1.30938113e-02,  -4.32817508e-03,  -2.72396712e-03,\n",
       "         -1.76635738e-03,  -1.12353708e-02,  -2.47962236e-03,\n",
       "         -1.24425203e-03,  -7.19194939e-04,  -7.58637680e-03,\n",
       "         -3.32731292e-03,  -1.78132580e-03,  -9.49295996e-04,\n",
       "         -2.56931900e-03,  -4.57674411e-04,  -9.59117482e-05,\n",
       "         -2.48018242e-05,  -4.77704632e-04,  -2.46610898e-05,\n",
       "         -1.13346741e-06,  -3.98381601e-07,  -4.49618125e-05,\n",
       "         -2.83824279e-07,  -2.83824279e-07,  -2.83824279e-07]),\n",
       " 'split1_test_score': array([ -4.87736474e+01,  -1.79488394e+01,  -6.62967282e+00,\n",
       "         -2.46437248e+00,  -4.87736474e+01,  -1.79488394e+01,\n",
       "         -6.62967282e+00,  -2.46285694e+00,  -4.87736474e+01,\n",
       "         -1.79488394e+01,  -6.62967282e+00,  -2.46290268e+00,\n",
       "         -4.87736474e+01,  -1.79488394e+01,  -6.62967282e+00,\n",
       "         -2.46290268e+00,  -3.10871049e-02,  -2.16875654e-02,\n",
       "         -2.03036327e-02,  -1.98949457e-02,  -2.81891568e-02,\n",
       "         -2.12925631e-02,  -2.09373104e-02,  -2.06054048e-02,\n",
       "         -2.75189417e-02,  -2.10693073e-02,  -2.07430593e-02,\n",
       "         -2.05785846e-02,  -2.79635571e-02,  -2.21926069e-02,\n",
       "         -2.18877828e-02,  -2.16836777e-02,  -3.00779129e-02,\n",
       "         -2.89046737e-02,  -2.84146065e-02,  -2.84821845e-02,\n",
       "         -3.65310091e-02,  -3.60825106e-02,  -3.61953965e-02,\n",
       "         -3.61125531e-02,  -4.07902445e-02,  -4.04658717e-02,\n",
       "         -4.03963043e-02,  -4.04150382e-02,  -4.19220275e-02,\n",
       "         -4.19704000e-02,  -4.19704000e-02,  -4.19704000e-02]),\n",
       " 'split1_train_score': array([ -4.88295010e+01,  -1.79589406e+01,  -6.62669626e+00,\n",
       "         -2.45884654e+00,  -4.88295010e+01,  -1.79589406e+01,\n",
       "         -6.62669626e+00,  -2.45853205e+00,  -4.88295010e+01,\n",
       "         -1.79589406e+01,  -6.62669626e+00,  -2.45852622e+00,\n",
       "         -4.88295010e+01,  -1.79589406e+01,  -6.62669626e+00,\n",
       "         -2.45852622e+00,  -2.07160924e-02,  -1.02872848e-02,\n",
       "         -7.96132162e-03,  -6.79944248e-03,  -1.51252008e-02,\n",
       "         -6.12780477e-03,  -4.41819643e-03,  -3.33236622e-03,\n",
       "         -1.23463044e-02,  -3.66256431e-03,  -2.31154765e-03,\n",
       "         -1.49905607e-03,  -1.05517321e-02,  -2.23267974e-03,\n",
       "         -1.09608861e-03,  -5.50821758e-04,  -6.05985311e-03,\n",
       "         -2.66878714e-03,  -1.36822324e-03,  -8.01424066e-04,\n",
       "         -2.50652647e-03,  -4.79840245e-04,  -1.13054775e-04,\n",
       "         -2.77157881e-05,  -4.52071843e-04,  -2.49138089e-05,\n",
       "         -1.56675826e-06,  -5.90480893e-07,  -4.42398328e-05,\n",
       "         -5.50148159e-07,  -5.50148159e-07,  -5.50148159e-07]),\n",
       " 'split2_test_score': array([ -4.86619114e+01,  -1.78466858e+01,  -6.56170134e+00,\n",
       "         -2.42333871e+00,  -4.86619114e+01,  -1.78466858e+01,\n",
       "         -6.56150181e+00,  -2.42285721e+00,  -4.86619114e+01,\n",
       "         -1.78466858e+01,  -6.56158729e+00,  -2.42383014e+00,\n",
       "         -4.86619114e+01,  -1.78466858e+01,  -6.56158729e+00,\n",
       "         -2.42433387e+00,  -2.47765291e-02,  -1.76276500e-02,\n",
       "         -1.61343835e-02,  -1.55881870e-02,  -2.38812763e-02,\n",
       "         -1.69704760e-02,  -1.62036450e-02,  -1.57951994e-02,\n",
       "         -2.22286623e-02,  -1.60814190e-02,  -1.54917456e-02,\n",
       "         -1.52976238e-02,  -2.17448616e-02,  -1.56823525e-02,\n",
       "         -1.53333034e-02,  -1.51581836e-02,  -2.62074079e-02,\n",
       "         -2.35410110e-02,  -2.39953417e-02,  -2.34444266e-02,\n",
       "         -3.48978975e-02,  -3.43338902e-02,  -3.47992714e-02,\n",
       "         -3.46527948e-02,  -3.47272994e-02,  -3.52456682e-02,\n",
       "         -3.51591852e-02,  -3.51784218e-02,  -4.20658109e-02,\n",
       "         -4.21263396e-02,  -4.21263396e-02,  -4.21263396e-02]),\n",
       " 'split2_train_score': array([ -4.88591017e+01,  -1.79718194e+01,  -6.63257392e+00,\n",
       "         -2.46150848e+00,  -4.88591017e+01,  -1.79718194e+01,\n",
       "         -6.63253508e+00,  -2.46073382e+00,  -4.88591017e+01,\n",
       "         -1.79718194e+01,  -6.63250962e+00,  -2.46060914e+00,\n",
       "         -4.88591017e+01,  -1.79718194e+01,  -6.63250962e+00,\n",
       "         -2.46057727e+00,  -2.10278859e-02,  -1.08657346e-02,\n",
       "         -8.73038529e-03,  -7.42118092e-03,  -1.55736581e-02,\n",
       "         -6.67611041e-03,  -4.75458639e-03,  -3.75398345e-03,\n",
       "         -1.28365229e-02,  -3.99688614e-03,  -2.45670797e-03,\n",
       "         -1.66358609e-03,  -1.11492304e-02,  -2.37936598e-03,\n",
       "         -1.22098128e-03,  -7.11740512e-04,  -6.64382503e-03,\n",
       "         -3.18573598e-03,  -1.68330022e-03,  -9.63837199e-04,\n",
       "         -2.66827929e-03,  -5.12406585e-04,  -1.31122176e-04,\n",
       "         -3.03501888e-05,  -5.61220724e-04,  -1.94401756e-05,\n",
       "         -9.56480180e-07,  -5.20800720e-07,  -4.38342101e-05,\n",
       "         -4.04183910e-07,  -4.04183910e-07,  -4.04183910e-07]),\n",
       " 'std_fit_time': array([ 0.00169977,  0.00124721,  0.01020907,  0.00286742,  0.00385859,\n",
       "         0.0032997 ,  0.03483608,  0.03125525,  0.00377119,  0.00873058,\n",
       "         0.01851728,  0.02743889,  0.00402768,  0.00496671,  0.01857108,\n",
       "         0.03343643,  0.0021602 ,  0.00169981,  0.00047131,  0.00454592,\n",
       "         0.00081634,  0.00124715,  0.00294381,  0.00326604,  0.00385874,\n",
       "         0.00262459,  0.00262455,  0.01322461,  0.00571558,  0.0026247 ,\n",
       "         0.00492165,  0.00543651,  0.00124721,  0.00124723,  0.00169966,\n",
       "         0.00216031,  0.00047143,  0.01470446,  0.00424273,  0.00857641,\n",
       "         0.00094291,  0.0130213 ,  0.05721517,  0.0413844 ,  0.00496655,\n",
       "         0.02536858,  0.00612821,  0.01901474]),\n",
       " 'std_score_time': array([  1.12391596e-07,   0.00000000e+00,   1.12391596e-07,\n",
       "          4.71370354e-04,   1.94667955e-07,   4.71482786e-04,\n",
       "          2.24783192e-07,   4.71257962e-04,   1.94667955e-07,\n",
       "          4.71370394e-04,   4.71426560e-04,   4.71426560e-04,\n",
       "          4.71426560e-04,   1.12391596e-07,   8.16437410e-04,\n",
       "          4.71482745e-04,   4.71314168e-04,   4.71370354e-04,\n",
       "          4.71426560e-04,   1.94667955e-07,   4.71314168e-04,\n",
       "          1.12391596e-07,   1.12391596e-07,   4.71370394e-04,\n",
       "          4.71370354e-04,   1.12391596e-07,   4.71314168e-04,\n",
       "          4.71426560e-04,   4.71314168e-04,   4.71426560e-04,\n",
       "          4.71370354e-04,   4.71482745e-04,   2.24783192e-07,\n",
       "          4.71426560e-04,   8.16534738e-04,   4.71370354e-04,\n",
       "          4.71538951e-04,   2.24783192e-07,   4.71538951e-04,\n",
       "          1.12391596e-07,   4.71538951e-04,   1.88565000e-03,\n",
       "          4.71370394e-04,   4.71482745e-04,   1.12391596e-07,\n",
       "          8.16340070e-04,   8.16534738e-04,   4.71370394e-04]),\n",
       " 'std_test_score': array([ 0.1463693 ,  0.08820627,  0.04930497,  0.02696044,  0.1463693 ,\n",
       "         0.08820627,  0.04934438,  0.02698628,  0.1463693 ,  0.08820627,\n",
       "         0.04930809,  0.02639245,  0.1463693 ,  0.08820627,  0.04930809,\n",
       "         0.02617385,  0.00281666,  0.00258759,  0.00257361,  0.00273469,\n",
       "         0.00244841,  0.00290673,  0.00314589,  0.00311761,  0.00270584,\n",
       "         0.00291362,  0.00300655,  0.00299107,  0.00303408,  0.00355384,\n",
       "         0.00364775,  0.00360748,  0.00301565,  0.00273139,  0.00260172,\n",
       "         0.00260976,  0.00430332,  0.0036244 ,  0.00358575,  0.00355234,\n",
       "         0.0028611 ,  0.0024937 ,  0.00248421,  0.00249361,  0.00411008,\n",
       "         0.00419838,  0.00419838,  0.00419838]),\n",
       " 'std_train_score': array([  4.08233257e-02,   1.45376509e-02,   5.36022122e-03,\n",
       "          1.80211960e-03,   4.08233257e-02,   1.45376509e-02,\n",
       "          5.34932391e-03,   1.71680867e-03,   4.08233257e-02,\n",
       "          1.45376509e-02,   5.33932329e-03,   1.68783260e-03,\n",
       "          4.08233257e-02,   1.45376509e-02,   5.33932329e-03,\n",
       "          1.67480905e-03,   4.31756641e-04,   3.91988738e-04,\n",
       "          4.91656054e-04,   4.35772068e-04,   3.02151279e-04,\n",
       "          3.79243101e-04,   3.20157996e-04,   3.35336036e-04,\n",
       "          3.10067719e-04,   2.71735400e-04,   1.70811395e-04,\n",
       "          1.10091910e-04,   3.04007729e-04,   1.01406141e-04,\n",
       "          6.50573302e-05,   7.76744934e-05,   6.28905718e-04,\n",
       "          2.83026566e-04,   1.76237290e-04,   7.33754273e-05,\n",
       "          6.65832938e-05,   2.24783888e-05,   1.43762482e-05,\n",
       "          2.26606863e-06,   4.66016879e-05,   2.52283951e-06,\n",
       "          2.56364493e-07,   7.94032644e-08,   4.66341719e-07,\n",
       "          1.08893634e-07,   1.08893634e-07,   1.08893634e-07])}"
      ]
     },
     "execution_count": 31,
     "metadata": {},
     "output_type": "execute_result"
    }
   ],
   "source": [
    "para_search_model.cv_results_"
   ]
  },
  {
   "cell_type": "code",
   "execution_count": 27,
   "metadata": {},
   "outputs": [
    {
     "data": {
      "text/plain": [
       "dict_keys(['mean_fit_time', 'std_fit_time', 'mean_score_time', 'std_score_time', 'param_learning_rate', 'param_max_depth', 'param_n_estimators', 'params', 'split0_test_score', 'split1_test_score', 'split2_test_score', 'mean_test_score', 'std_test_score', 'rank_test_score', 'split0_train_score', 'split1_train_score', 'split2_train_score', 'mean_train_score', 'std_train_score'])"
      ]
     },
     "execution_count": 27,
     "metadata": {},
     "output_type": "execute_result"
    }
   ],
   "source": [
    "para_search_model.cv_results_.keys()"
   ]
  },
  {
   "cell_type": "code",
   "execution_count": 34,
   "metadata": {},
   "outputs": [
    {
     "name": "stdout",
     "output_type": "stream",
     "text": [
      "{'learning_rate': 0.1, 'max_depth': 2, 'n_estimators': 200}\n"
     ]
    },
    {
     "data": {
      "text/plain": [
       "19"
      ]
     },
     "execution_count": 34,
     "metadata": {},
     "output_type": "execute_result"
    }
   ],
   "source": [
    "print(para_search_model.best_params_)\n",
    "para_search_model.best_index_"
   ]
  },
  {
   "cell_type": "code",
   "execution_count": 32,
   "metadata": {
    "scrolled": true
   },
   "outputs": [
    {
     "name": "stdout",
     "output_type": "stream",
     "text": [
      "(48,)\n"
     ]
    },
    {
     "data": {
      "text/plain": [
       "array([ -4.88162333e+01,  -1.79528057e+01,  -6.62455716e+00,\n",
       "        -2.45882312e+00,  -4.88162333e+01,  -1.79528057e+01,\n",
       "        -6.62445196e+00,  -2.45807898e+00,  -4.88162333e+01,\n",
       "        -1.79528057e+01,  -6.62448041e+00,  -2.45826364e+00,\n",
       "        -4.88162333e+01,  -1.79528057e+01,  -6.62448041e+00,\n",
       "        -2.45843132e+00,  -2.71288428e-02,  -1.82537271e-02,\n",
       "        -1.68552790e-02,  -1.62617599e-02,  -2.48320662e-02,\n",
       "        -1.74993851e-02,  -1.68165483e-02,  -1.64895180e-02,\n",
       "        -2.37229660e-02,  -1.71033829e-02,  -1.66285537e-02,\n",
       "        -1.64737725e-02,  -2.36815310e-02,  -1.72713864e-02,\n",
       "        -1.68596809e-02,  -1.67030349e-02,  -2.63273777e-02,\n",
       "        -2.50701618e-02,  -2.48808432e-02,  -2.48289899e-02,\n",
       "        -3.27075729e-02,  -3.26951584e-02,  -3.29934825e-02,\n",
       "        -3.29058518e-02,  -3.67461251e-02,  -3.69419224e-02,\n",
       "        -3.68850895e-02,  -3.68908524e-02,  -3.90863868e-02,\n",
       "        -3.90784033e-02,  -3.90784033e-02,  -3.90784033e-02])"
      ]
     },
     "execution_count": 32,
     "metadata": {},
     "output_type": "execute_result"
    }
   ],
   "source": [
    "print(para_search_model.cv_results_['mean_test_score'].shape)\n",
    "para_search_model.cv_results_['mean_test_score']"
   ]
  },
  {
   "cell_type": "code",
   "execution_count": 36,
   "metadata": {},
   "outputs": [
    {
     "data": {
      "text/plain": [
       "0.12752160557878339"
      ]
     },
     "execution_count": 36,
     "metadata": {},
     "output_type": "execute_result"
    }
   ],
   "source": [
    "np.sqrt(-(para_search_model.cv_results_['mean_test_score'][para_search_model.best_index_]))"
   ]
  },
  {
   "cell_type": "code",
   "execution_count": 38,
   "metadata": {},
   "outputs": [
    {
     "data": {
      "text/plain": [
       "array([ 119749.5078125,  155981.421875 ,  184037.625    , ...,\n",
       "        160849.359375 ,  119770.8671875,  232584.171875 ], dtype=float32)"
      ]
     },
     "execution_count": 38,
     "metadata": {},
     "output_type": "execute_result"
    }
   ],
   "source": [
    "np.expm1(para_search_model.predict(y_test))"
   ]
  },
  {
   "cell_type": "code",
   "execution_count": 40,
   "metadata": {},
   "outputs": [
    {
     "data": {
      "text/plain": [
       "Index(['MSSubClass', 'LotFrontage', 'LotArea', 'OverallQual', 'OverallCond',\n",
       "       'YearBuilt', 'YearRemodAdd', 'MasVnrArea', 'BsmtFinSF1', 'BsmtFinSF2',\n",
       "       ...\n",
       "       'SaleType_ConLw', 'SaleType_New', 'SaleType_Oth', 'SaleType_WD',\n",
       "       'SaleCondition_Abnorml', 'SaleCondition_AdjLand',\n",
       "       'SaleCondition_Alloca', 'SaleCondition_Family', 'SaleCondition_Normal',\n",
       "       'SaleCondition_Partial'],\n",
       "      dtype='object', length=270)"
      ]
     },
     "execution_count": 40,
     "metadata": {},
     "output_type": "execute_result"
    }
   ],
   "source": [
    "test_df.columns"
   ]
  },
  {
   "cell_type": "code",
   "execution_count": 45,
   "metadata": {
    "collapsed": true
   },
   "outputs": [],
   "source": [
    "xgb_submission = pd.DataFrame({'Id':test_df.index, 'SalePrice':np.expm1(para_search_model.predict(y_test))})\n",
    "xgb_submission.to_csv('output/xgb_submission.csv', index=False)"
   ]
  },
  {
   "cell_type": "code",
   "execution_count": null,
   "metadata": {
    "collapsed": true
   },
   "outputs": [],
   "source": []
  },
  {
   "cell_type": "code",
   "execution_count": 3,
   "metadata": {
    "collapsed": true
   },
   "outputs": [],
   "source": [
    "c1 = pd.read_csv('input/train.csv', nrows=2)"
   ]
  },
  {
   "cell_type": "code",
   "execution_count": 4,
   "metadata": {},
   "outputs": [
    {
     "data": {
      "text/html": [
       "<div>\n",
       "<style>\n",
       "    .dataframe thead tr:only-child th {\n",
       "        text-align: right;\n",
       "    }\n",
       "\n",
       "    .dataframe thead th {\n",
       "        text-align: left;\n",
       "    }\n",
       "\n",
       "    .dataframe tbody tr th {\n",
       "        vertical-align: top;\n",
       "    }\n",
       "</style>\n",
       "<table border=\"1\" class=\"dataframe\">\n",
       "  <thead>\n",
       "    <tr style=\"text-align: right;\">\n",
       "      <th></th>\n",
       "      <th>Id</th>\n",
       "      <th>MSSubClass</th>\n",
       "      <th>MSZoning</th>\n",
       "      <th>LotFrontage</th>\n",
       "      <th>LotArea</th>\n",
       "      <th>Street</th>\n",
       "      <th>Alley</th>\n",
       "      <th>LotShape</th>\n",
       "      <th>LandContour</th>\n",
       "      <th>Utilities</th>\n",
       "      <th>...</th>\n",
       "      <th>PoolArea</th>\n",
       "      <th>PoolQC</th>\n",
       "      <th>Fence</th>\n",
       "      <th>MiscFeature</th>\n",
       "      <th>MiscVal</th>\n",
       "      <th>MoSold</th>\n",
       "      <th>YrSold</th>\n",
       "      <th>SaleType</th>\n",
       "      <th>SaleCondition</th>\n",
       "      <th>SalePrice</th>\n",
       "    </tr>\n",
       "  </thead>\n",
       "  <tbody>\n",
       "    <tr>\n",
       "      <th>0</th>\n",
       "      <td>1</td>\n",
       "      <td>60</td>\n",
       "      <td>RL</td>\n",
       "      <td>65</td>\n",
       "      <td>8450</td>\n",
       "      <td>Pave</td>\n",
       "      <td>NaN</td>\n",
       "      <td>Reg</td>\n",
       "      <td>Lvl</td>\n",
       "      <td>AllPub</td>\n",
       "      <td>...</td>\n",
       "      <td>0</td>\n",
       "      <td>NaN</td>\n",
       "      <td>NaN</td>\n",
       "      <td>NaN</td>\n",
       "      <td>0</td>\n",
       "      <td>2</td>\n",
       "      <td>2008</td>\n",
       "      <td>WD</td>\n",
       "      <td>Normal</td>\n",
       "      <td>208500</td>\n",
       "    </tr>\n",
       "    <tr>\n",
       "      <th>1</th>\n",
       "      <td>2</td>\n",
       "      <td>20</td>\n",
       "      <td>RL</td>\n",
       "      <td>80</td>\n",
       "      <td>9600</td>\n",
       "      <td>Pave</td>\n",
       "      <td>NaN</td>\n",
       "      <td>Reg</td>\n",
       "      <td>Lvl</td>\n",
       "      <td>AllPub</td>\n",
       "      <td>...</td>\n",
       "      <td>0</td>\n",
       "      <td>NaN</td>\n",
       "      <td>NaN</td>\n",
       "      <td>NaN</td>\n",
       "      <td>0</td>\n",
       "      <td>5</td>\n",
       "      <td>2007</td>\n",
       "      <td>WD</td>\n",
       "      <td>Normal</td>\n",
       "      <td>181500</td>\n",
       "    </tr>\n",
       "  </tbody>\n",
       "</table>\n",
       "<p>2 rows × 81 columns</p>\n",
       "</div>"
      ],
      "text/plain": [
       "   Id  MSSubClass MSZoning  LotFrontage  LotArea Street  Alley LotShape  \\\n",
       "0   1          60       RL           65     8450   Pave    NaN      Reg   \n",
       "1   2          20       RL           80     9600   Pave    NaN      Reg   \n",
       "\n",
       "  LandContour Utilities    ...     PoolArea PoolQC Fence MiscFeature MiscVal  \\\n",
       "0         Lvl    AllPub    ...            0    NaN   NaN         NaN       0   \n",
       "1         Lvl    AllPub    ...            0    NaN   NaN         NaN       0   \n",
       "\n",
       "  MoSold YrSold  SaleType  SaleCondition  SalePrice  \n",
       "0      2   2008        WD         Normal     208500  \n",
       "1      5   2007        WD         Normal     181500  \n",
       "\n",
       "[2 rows x 81 columns]"
      ]
     },
     "execution_count": 4,
     "metadata": {},
     "output_type": "execute_result"
    }
   ],
   "source": [
    "c1"
   ]
  },
  {
   "cell_type": "code",
   "execution_count": 7,
   "metadata": {
    "collapsed": true
   },
   "outputs": [],
   "source": [
    "c2=pd.read_csv('input/train.csv', nrows=2, skiprows=2)"
   ]
  },
  {
   "cell_type": "code",
   "execution_count": 8,
   "metadata": {},
   "outputs": [
    {
     "data": {
      "text/html": [
       "<div>\n",
       "<style>\n",
       "    .dataframe thead tr:only-child th {\n",
       "        text-align: right;\n",
       "    }\n",
       "\n",
       "    .dataframe thead th {\n",
       "        text-align: left;\n",
       "    }\n",
       "\n",
       "    .dataframe tbody tr th {\n",
       "        vertical-align: top;\n",
       "    }\n",
       "</style>\n",
       "<table border=\"1\" class=\"dataframe\">\n",
       "  <thead>\n",
       "    <tr style=\"text-align: right;\">\n",
       "      <th></th>\n",
       "      <th>2</th>\n",
       "      <th>20</th>\n",
       "      <th>RL</th>\n",
       "      <th>80</th>\n",
       "      <th>9600</th>\n",
       "      <th>Pave</th>\n",
       "      <th>NA</th>\n",
       "      <th>Reg</th>\n",
       "      <th>Lvl</th>\n",
       "      <th>AllPub</th>\n",
       "      <th>...</th>\n",
       "      <th>0.10</th>\n",
       "      <th>NA.1</th>\n",
       "      <th>NA.2</th>\n",
       "      <th>NA.3</th>\n",
       "      <th>0.11</th>\n",
       "      <th>5</th>\n",
       "      <th>2007</th>\n",
       "      <th>WD</th>\n",
       "      <th>Normal</th>\n",
       "      <th>181500</th>\n",
       "    </tr>\n",
       "  </thead>\n",
       "  <tbody>\n",
       "    <tr>\n",
       "      <th>0</th>\n",
       "      <td>3</td>\n",
       "      <td>60</td>\n",
       "      <td>RL</td>\n",
       "      <td>68</td>\n",
       "      <td>11250</td>\n",
       "      <td>Pave</td>\n",
       "      <td>NaN</td>\n",
       "      <td>IR1</td>\n",
       "      <td>Lvl</td>\n",
       "      <td>AllPub</td>\n",
       "      <td>...</td>\n",
       "      <td>0</td>\n",
       "      <td>NaN</td>\n",
       "      <td>NaN</td>\n",
       "      <td>NaN</td>\n",
       "      <td>0</td>\n",
       "      <td>9</td>\n",
       "      <td>2008</td>\n",
       "      <td>WD</td>\n",
       "      <td>Normal</td>\n",
       "      <td>223500</td>\n",
       "    </tr>\n",
       "    <tr>\n",
       "      <th>1</th>\n",
       "      <td>4</td>\n",
       "      <td>70</td>\n",
       "      <td>RL</td>\n",
       "      <td>60</td>\n",
       "      <td>9550</td>\n",
       "      <td>Pave</td>\n",
       "      <td>NaN</td>\n",
       "      <td>IR1</td>\n",
       "      <td>Lvl</td>\n",
       "      <td>AllPub</td>\n",
       "      <td>...</td>\n",
       "      <td>0</td>\n",
       "      <td>NaN</td>\n",
       "      <td>NaN</td>\n",
       "      <td>NaN</td>\n",
       "      <td>0</td>\n",
       "      <td>2</td>\n",
       "      <td>2006</td>\n",
       "      <td>WD</td>\n",
       "      <td>Abnorml</td>\n",
       "      <td>140000</td>\n",
       "    </tr>\n",
       "  </tbody>\n",
       "</table>\n",
       "<p>2 rows × 81 columns</p>\n",
       "</div>"
      ],
      "text/plain": [
       "   2  20  RL  80   9600  Pave  NA  Reg  Lvl  AllPub   ...   0.10 NA.1 NA.2  \\\n",
       "0  3  60  RL  68  11250  Pave NaN  IR1  Lvl  AllPub   ...      0  NaN  NaN   \n",
       "1  4  70  RL  60   9550  Pave NaN  IR1  Lvl  AllPub   ...      0  NaN  NaN   \n",
       "\n",
       "  NA.3 0.11  5  2007  WD   Normal  181500  \n",
       "0  NaN    0  9  2008  WD   Normal  223500  \n",
       "1  NaN    0  2  2006  WD  Abnorml  140000  \n",
       "\n",
       "[2 rows x 81 columns]"
      ]
     },
     "execution_count": 8,
     "metadata": {},
     "output_type": "execute_result"
    }
   ],
   "source": [
    "c2"
   ]
  },
  {
   "cell_type": "code",
   "execution_count": null,
   "metadata": {
    "collapsed": true
   },
   "outputs": [],
   "source": [
    "\n",
    "\n"
   ]
  },
  {
   "cell_type": "code",
   "execution_count": 29,
   "metadata": {},
   "outputs": [],
   "source": [
    "import numpy as np\n",
    "a = np.arange(1,19)\n",
    "a = np.reshape(a,(2,3,3))"
   ]
  },
  {
   "cell_type": "code",
   "execution_count": 13,
   "metadata": {},
   "outputs": [
    {
     "data": {
      "text/plain": [
       "[[[1, 2, 3], [4, 5, 6], [7, 8, 9]], [[10, 11, 12], [13, 14, 15], [16, 17, 18]]]"
      ]
     },
     "execution_count": 13,
     "metadata": {},
     "output_type": "execute_result"
    }
   ],
   "source": [
    "a\n",
    "b = a.tolist()\n",
    "b"
   ]
  },
  {
   "cell_type": "code",
   "execution_count": 19,
   "metadata": {},
   "outputs": [],
   "source": [
    "import pandas as pd\n",
    "aa = pd.DataFrame(b)"
   ]
  },
  {
   "cell_type": "code",
   "execution_count": 22,
   "metadata": {},
   "outputs": [],
   "source": [
    "aa['lable'] = [[4],[6]]"
   ]
  },
  {
   "cell_type": "code",
   "execution_count": 23,
   "metadata": {},
   "outputs": [
    {
     "data": {
      "text/html": [
       "<div>\n",
       "<style>\n",
       "    .dataframe thead tr:only-child th {\n",
       "        text-align: right;\n",
       "    }\n",
       "\n",
       "    .dataframe thead th {\n",
       "        text-align: left;\n",
       "    }\n",
       "\n",
       "    .dataframe tbody tr th {\n",
       "        vertical-align: top;\n",
       "    }\n",
       "</style>\n",
       "<table border=\"1\" class=\"dataframe\">\n",
       "  <thead>\n",
       "    <tr style=\"text-align: right;\">\n",
       "      <th></th>\n",
       "      <th>0</th>\n",
       "      <th>1</th>\n",
       "      <th>2</th>\n",
       "      <th>lable</th>\n",
       "    </tr>\n",
       "  </thead>\n",
       "  <tbody>\n",
       "    <tr>\n",
       "      <th>0</th>\n",
       "      <td>[1, 2, 3]</td>\n",
       "      <td>[4, 5, 6]</td>\n",
       "      <td>[7, 8, 9]</td>\n",
       "      <td>[4]</td>\n",
       "    </tr>\n",
       "    <tr>\n",
       "      <th>1</th>\n",
       "      <td>[10, 11, 12]</td>\n",
       "      <td>[13, 14, 15]</td>\n",
       "      <td>[16, 17, 18]</td>\n",
       "      <td>[6]</td>\n",
       "    </tr>\n",
       "  </tbody>\n",
       "</table>\n",
       "</div>"
      ],
      "text/plain": [
       "              0             1             2 lable\n",
       "0     [1, 2, 3]     [4, 5, 6]     [7, 8, 9]   [4]\n",
       "1  [10, 11, 12]  [13, 14, 15]  [16, 17, 18]   [6]"
      ]
     },
     "execution_count": 23,
     "metadata": {},
     "output_type": "execute_result"
    }
   ],
   "source": [
    "aa"
   ]
  },
  {
   "cell_type": "code",
   "execution_count": 24,
   "metadata": {},
   "outputs": [
    {
     "data": {
      "text/plain": [
       "array([[list([1, 2, 3]), list([4, 5, 6]), list([7, 8, 9]), list([4])],\n",
       "       [list([10, 11, 12]), list([13, 14, 15]), list([16, 17, 18]),\n",
       "        list([6])]], dtype=object)"
      ]
     },
     "execution_count": 24,
     "metadata": {},
     "output_type": "execute_result"
    }
   ],
   "source": [
    "aa.values"
   ]
  },
  {
   "cell_type": "code",
   "execution_count": 25,
   "metadata": {},
   "outputs": [
    {
     "data": {
      "text/plain": [
       "array([list([4]), list([6])], dtype=object)"
      ]
     },
     "execution_count": 25,
     "metadata": {},
     "output_type": "execute_result"
    }
   ],
   "source": [
    "aa.values[:, -1]"
   ]
  },
  {
   "cell_type": "code",
   "execution_count": 26,
   "metadata": {},
   "outputs": [
    {
     "data": {
      "text/plain": [
       "array([[list([1, 2, 3]), list([4, 5, 6]), list([7, 8, 9])],\n",
       "       [list([10, 11, 12]), list([13, 14, 15]), list([16, 17, 18])]], dtype=object)"
      ]
     },
     "execution_count": 26,
     "metadata": {},
     "output_type": "execute_result"
    }
   ],
   "source": [
    "aa.values[:, :-1]"
   ]
  },
  {
   "cell_type": "code",
   "execution_count": 27,
   "metadata": {},
   "outputs": [
    {
     "data": {
      "text/plain": [
       "(2, 4)"
      ]
     },
     "execution_count": 27,
     "metadata": {},
     "output_type": "execute_result"
    }
   ],
   "source": [
    "aa.shape"
   ]
  },
  {
   "cell_type": "code",
   "execution_count": 31,
   "metadata": {},
   "outputs": [
    {
     "data": {
      "text/plain": [
       "[array([list([1, 2, 3]), list([4, 5, 6]), list([7, 8, 9]), list([4])], dtype=object),\n",
       " array([list([10, 11, 12]), list([13, 14, 15]), list([16, 17, 18]),\n",
       "        list([6])], dtype=object)]"
      ]
     },
     "execution_count": 31,
     "metadata": {},
     "output_type": "execute_result"
    }
   ],
   "source": [
    "[x for x in aa.values]"
   ]
  },
  {
   "cell_type": "code",
   "execution_count": 33,
   "metadata": {},
   "outputs": [
    {
     "data": {
      "text/plain": [
       "array([[[ 1,  2,  3],\n",
       "        [ 4,  5,  6],\n",
       "        [ 7,  8,  9]],\n",
       "\n",
       "       [[10, 11, 12],\n",
       "        [13, 14, 15],\n",
       "        [16, 17, 18]]])"
      ]
     },
     "execution_count": 33,
     "metadata": {},
     "output_type": "execute_result"
    }
   ],
   "source": []
  },
  {
   "cell_type": "code",
   "execution_count": 34,
   "metadata": {
    "collapsed": true
   },
   "outputs": [],
   "source": [
    "a = np.ones((3,3,3))"
   ]
  },
  {
   "cell_type": "code",
   "execution_count": 35,
   "metadata": {},
   "outputs": [
    {
     "data": {
      "text/plain": [
       "array([[[ 1.,  1.,  1.],\n",
       "        [ 1.,  1.,  1.],\n",
       "        [ 1.,  1.,  1.]],\n",
       "\n",
       "       [[ 1.,  1.,  1.],\n",
       "        [ 1.,  1.,  1.],\n",
       "        [ 1.,  1.,  1.]],\n",
       "\n",
       "       [[ 1.,  1.,  1.],\n",
       "        [ 1.,  1.,  1.],\n",
       "        [ 1.,  1.,  1.]]])"
      ]
     },
     "execution_count": 35,
     "metadata": {},
     "output_type": "execute_result"
    }
   ],
   "source": [
    "a"
   ]
  },
  {
   "cell_type": "code",
   "execution_count": 36,
   "metadata": {},
   "outputs": [
    {
     "data": {
      "text/plain": [
       "(3, 3, 3)"
      ]
     },
     "execution_count": 36,
     "metadata": {},
     "output_type": "execute_result"
    }
   ],
   "source": [
    "a.shape"
   ]
  },
  {
   "cell_type": "code",
   "execution_count": 38,
   "metadata": {},
   "outputs": [
    {
     "data": {
      "text/plain": [
       "(3, 3)"
      ]
     },
     "execution_count": 38,
     "metadata": {},
     "output_type": "execute_result"
    }
   ],
   "source": [
    "a[1, :, :].shape"
   ]
  },
  {
   "cell_type": "code",
   "execution_count": null,
   "metadata": {
    "collapsed": true
   },
   "outputs": [],
   "source": []
  }
 ],
 "metadata": {
  "kernelspec": {
   "display_name": "Python 3",
   "language": "python",
   "name": "python3"
  },
  "language_info": {
   "codemirror_mode": {
    "name": "ipython",
    "version": 3
   },
   "file_extension": ".py",
   "mimetype": "text/x-python",
   "name": "python",
   "nbconvert_exporter": "python",
   "pygments_lexer": "ipython3",
   "version": "3.6.2"
  }
 },
 "nbformat": 4,
 "nbformat_minor": 2
}
