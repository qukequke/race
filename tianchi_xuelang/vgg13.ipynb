{
 "cells": [
  {
   "cell_type": "code",
   "execution_count": 1,
   "metadata": {
    "collapsed": true
   },
   "outputs": [],
   "source": [
    "import torch\n",
    "from torchvision import models"
   ]
  },
  {
   "cell_type": "code",
   "execution_count": 3,
   "metadata": {
    "scrolled": false
   },
   "outputs": [
    {
     "data": {
      "text/plain": [
       "VGG(\n",
       "  (features): Sequential(\n",
       "    (0): Conv2d(3, 64, kernel_size=(3, 3), stride=(1, 1), padding=(1, 1))\n",
       "    (1): ReLU(inplace)\n",
       "    (2): Conv2d(64, 64, kernel_size=(3, 3), stride=(1, 1), padding=(1, 1))\n",
       "    (3): ReLU(inplace)\n",
       "    (4): MaxPool2d(kernel_size=2, stride=2, padding=0, dilation=1, ceil_mode=False)\n",
       "    (5): Conv2d(64, 128, kernel_size=(3, 3), stride=(1, 1), padding=(1, 1))\n",
       "    (6): ReLU(inplace)\n",
       "    (7): Conv2d(128, 128, kernel_size=(3, 3), stride=(1, 1), padding=(1, 1))\n",
       "    (8): ReLU(inplace)\n",
       "    (9): MaxPool2d(kernel_size=2, stride=2, padding=0, dilation=1, ceil_mode=False)\n",
       "    (10): Conv2d(128, 256, kernel_size=(3, 3), stride=(1, 1), padding=(1, 1))\n",
       "    (11): ReLU(inplace)\n",
       "    (12): Conv2d(256, 256, kernel_size=(3, 3), stride=(1, 1), padding=(1, 1))\n",
       "    (13): ReLU(inplace)\n",
       "    (14): Conv2d(256, 256, kernel_size=(3, 3), stride=(1, 1), padding=(1, 1))\n",
       "    (15): ReLU(inplace)\n",
       "    (16): Conv2d(256, 256, kernel_size=(3, 3), stride=(1, 1), padding=(1, 1))\n",
       "    (17): ReLU(inplace)\n",
       "    (18): MaxPool2d(kernel_size=2, stride=2, padding=0, dilation=1, ceil_mode=False)\n",
       "    (19): Conv2d(256, 512, kernel_size=(3, 3), stride=(1, 1), padding=(1, 1))\n",
       "    (20): ReLU(inplace)\n",
       "    (21): Conv2d(512, 512, kernel_size=(3, 3), stride=(1, 1), padding=(1, 1))\n",
       "    (22): ReLU(inplace)\n",
       "    (23): Conv2d(512, 512, kernel_size=(3, 3), stride=(1, 1), padding=(1, 1))\n",
       "    (24): ReLU(inplace)\n",
       "    (25): Conv2d(512, 512, kernel_size=(3, 3), stride=(1, 1), padding=(1, 1))\n",
       "    (26): ReLU(inplace)\n",
       "    (27): MaxPool2d(kernel_size=2, stride=2, padding=0, dilation=1, ceil_mode=False)\n",
       "    (28): Conv2d(512, 512, kernel_size=(3, 3), stride=(1, 1), padding=(1, 1))\n",
       "    (29): ReLU(inplace)\n",
       "    (30): Conv2d(512, 512, kernel_size=(3, 3), stride=(1, 1), padding=(1, 1))\n",
       "    (31): ReLU(inplace)\n",
       "    (32): Conv2d(512, 512, kernel_size=(3, 3), stride=(1, 1), padding=(1, 1))\n",
       "    (33): ReLU(inplace)\n",
       "    (34): Conv2d(512, 512, kernel_size=(3, 3), stride=(1, 1), padding=(1, 1))\n",
       "    (35): ReLU(inplace)\n",
       "    (36): MaxPool2d(kernel_size=2, stride=2, padding=0, dilation=1, ceil_mode=False)\n",
       "  )\n",
       "  (classifier): Sequential(\n",
       "    (0): Linear(in_features=25088, out_features=4096, bias=True)\n",
       "    (1): ReLU(inplace)\n",
       "    (2): Dropout(p=0.5)\n",
       "    (3): Linear(in_features=4096, out_features=4096, bias=True)\n",
       "    (4): ReLU(inplace)\n",
       "    (5): Dropout(p=0.5)\n",
       "    (6): Linear(in_features=4096, out_features=1000, bias=True)\n",
       "  )\n",
       ")"
      ]
     },
     "execution_count": 3,
     "metadata": {},
     "output_type": "execute_result"
    }
   ],
   "source": [
    "models.vgg19()"
   ]
  },
  {
   "cell_type": "code",
   "execution_count": 155,
   "metadata": {},
   "outputs": [
    {
     "data": {
      "text/plain": [
       "False"
      ]
     },
     "execution_count": 155,
     "metadata": {},
     "output_type": "execute_result"
    }
   ],
   "source": [
    "torch.cuda.is_available()"
   ]
  },
  {
   "cell_type": "code",
   "execution_count": 151,
   "metadata": {},
   "outputs": [
    {
     "data": {
      "text/plain": [
       "['ByteStorage',\n",
       " 'ByteTensor',\n",
       " 'CharStorage',\n",
       " 'CharTensor',\n",
       " 'CompiledFunction',\n",
       " 'DoubleStorage',\n",
       " 'DoubleTensor',\n",
       " 'FatalError',\n",
       " 'FloatStorage',\n",
       " 'FloatTensor',\n",
       " 'Generator',\n",
       " 'Graph',\n",
       " 'GraphExecutor',\n",
       " 'HalfStorage',\n",
       " 'HalfStorageBase',\n",
       " 'HalfTensor',\n",
       " 'IODescriptor',\n",
       " 'IntStorage',\n",
       " 'IntTensor',\n",
       " 'InterpreterFunctionFactory',\n",
       " 'LongStorage',\n",
       " 'LongTensor',\n",
       " 'Node',\n",
       " 'ScriptMethod',\n",
       " 'ScriptModule',\n",
       " 'ShortStorage',\n",
       " 'ShortTensor',\n",
       " 'Size',\n",
       " 'Storage',\n",
       " 'Tensor',\n",
       " 'TracingState',\n",
       " 'Type',\n",
       " 'Use',\n",
       " 'Value',\n",
       " '_C',\n",
       " '_StorageBase',\n",
       " '__all__',\n",
       " '__and__',\n",
       " '__builtins__',\n",
       " '__cached__',\n",
       " '__class__',\n",
       " '__delattr__',\n",
       " '__dir__',\n",
       " '__doc__',\n",
       " '__eq__',\n",
       " '__file__',\n",
       " '__format__',\n",
       " '__ge__',\n",
       " '__getattribute__',\n",
       " '__gt__',\n",
       " '__hash__',\n",
       " '__init__',\n",
       " '__init_subclass__',\n",
       " '__le__',\n",
       " '__loader__',\n",
       " '__lshift__',\n",
       " '__lt__',\n",
       " '__name__',\n",
       " '__ne__',\n",
       " '__new__',\n",
       " '__or__',\n",
       " '__package__',\n",
       " '__path__',\n",
       " '__reduce__',\n",
       " '__reduce_ex__',\n",
       " '__repr__',\n",
       " '__rshift__',\n",
       " '__setattr__',\n",
       " '__sizeof__',\n",
       " '__spec__',\n",
       " '__str__',\n",
       " '__subclasshook__',\n",
       " '__version__',\n",
       " '__xor__',\n",
       " '_abs',\n",
       " '_addmv',\n",
       " '_addr',\n",
       " '_argmax',\n",
       " '_argmin',\n",
       " '_cast_Half',\n",
       " '_cast_double',\n",
       " '_cast_float',\n",
       " '_cast_int',\n",
       " '_cast_int16_t',\n",
       " '_cast_int64_t',\n",
       " '_cast_int8_t',\n",
       " '_cast_uint8_t',\n",
       " '_cat',\n",
       " '_ceil',\n",
       " '_convolution',\n",
       " '_convolution_nogroup',\n",
       " '_cos',\n",
       " '_cudnn_init_dropout_state',\n",
       " '_cudnn_rnn',\n",
       " '_cudnn_rnn_flatten_weight',\n",
       " '_dirichlet_grad',\n",
       " '_dot',\n",
       " '_exp',\n",
       " '_fft_with_size',\n",
       " '_floor',\n",
       " '_ger',\n",
       " '_import_dotted_name',\n",
       " '_log',\n",
       " '_mm',\n",
       " '_mv',\n",
       " '_np',\n",
       " '_promote_types',\n",
       " '_round',\n",
       " '_s_where',\n",
       " '_sin',\n",
       " '_six',\n",
       " '_sparse_coo_tensor_unsafe',\n",
       " '_sqrt',\n",
       " '_standard_gamma',\n",
       " '_standard_gamma_grad',\n",
       " '_storage_classes',\n",
       " '_string_classes',\n",
       " '_tensor_classes',\n",
       " '_tensor_str',\n",
       " '_thnn',\n",
       " '_trilinear',\n",
       " '_trunc',\n",
       " '_unique',\n",
       " '_utils',\n",
       " 'abs',\n",
       " 'abs_',\n",
       " 'acos',\n",
       " 'adaptive_avg_pool1d',\n",
       " 'adaptive_max_pool1d',\n",
       " 'add',\n",
       " 'addbmm',\n",
       " 'addcdiv',\n",
       " 'addcmul',\n",
       " 'addmm',\n",
       " 'addmv',\n",
       " 'addmv_',\n",
       " 'addr',\n",
       " 'allclose',\n",
       " 'arange',\n",
       " 'argmax',\n",
       " 'argmin',\n",
       " 'as_strided',\n",
       " 'asin',\n",
       " 'atan',\n",
       " 'atan2',\n",
       " 'autograd',\n",
       " 'backends',\n",
       " 'baddbmm',\n",
       " 'bartlett_window',\n",
       " 'batch_norm',\n",
       " 'bernoulli',\n",
       " 'bernoulli_',\n",
       " 'bilinear',\n",
       " 'bmm',\n",
       " 'btrifact',\n",
       " 'btrifact_with_info',\n",
       " 'btrisolve',\n",
       " 'btriunpack',\n",
       " 'cat',\n",
       " 'ceil',\n",
       " 'ceil_',\n",
       " 'chunk',\n",
       " 'clamp',\n",
       " 'conv1d',\n",
       " 'conv2d',\n",
       " 'conv3d',\n",
       " 'conv_tbc',\n",
       " 'conv_transpose1d',\n",
       " 'conv_transpose2d',\n",
       " 'conv_transpose3d',\n",
       " 'convolution',\n",
       " 'cos',\n",
       " 'cos_',\n",
       " 'cosh',\n",
       " 'cosine_embedding_loss',\n",
       " 'cross',\n",
       " 'cuda',\n",
       " 'cudnn_affine_grid_generator',\n",
       " 'cudnn_batch_norm',\n",
       " 'cudnn_convolution',\n",
       " 'cudnn_convolution_transpose',\n",
       " 'cudnn_grid_sampler',\n",
       " 'cudnn_is_acceptable',\n",
       " 'cumprod',\n",
       " 'cumsum',\n",
       " 'default_generator',\n",
       " 'det',\n",
       " 'device',\n",
       " 'diag',\n",
       " 'diagflat',\n",
       " 'diagonal',\n",
       " 'digamma',\n",
       " 'dist',\n",
       " 'distributed',\n",
       " 'distributions',\n",
       " 'div',\n",
       " 'dot',\n",
       " 'double',\n",
       " 'dsmm',\n",
       " 'dtype',\n",
       " 'eig',\n",
       " 'einsum',\n",
       " 'embedding',\n",
       " 'embedding_bag',\n",
       " 'embedding_renorm_',\n",
       " 'empty',\n",
       " 'empty_like',\n",
       " 'enable_grad',\n",
       " 'eq',\n",
       " 'equal',\n",
       " 'erf',\n",
       " 'erfinv',\n",
       " 'exp',\n",
       " 'exp_',\n",
       " 'expm1',\n",
       " 'eye',\n",
       " 'fft',\n",
       " 'float',\n",
       " 'float16',\n",
       " 'float32',\n",
       " 'float64',\n",
       " 'floor',\n",
       " 'floor_',\n",
       " 'fmod',\n",
       " 'frac',\n",
       " 'from_numpy',\n",
       " 'full',\n",
       " 'full_like',\n",
       " 'functional',\n",
       " 'gather',\n",
       " 'ge',\n",
       " 'gels',\n",
       " 'geqrf',\n",
       " 'ger',\n",
       " 'gesv',\n",
       " 'get_default_dtype',\n",
       " 'get_num_threads',\n",
       " 'get_nvToolsExt_path',\n",
       " 'get_rng_state',\n",
       " 'group_norm',\n",
       " 'gt',\n",
       " 'half',\n",
       " 'hamming_window',\n",
       " 'hann_window',\n",
       " 'has_cudnn',\n",
       " 'has_mkl',\n",
       " 'hinge_embedding_loss',\n",
       " 'histc',\n",
       " 'hsmm',\n",
       " 'hspmm',\n",
       " 'ifft',\n",
       " 'index',\n",
       " 'index_put_',\n",
       " 'index_select',\n",
       " 'initial_seed',\n",
       " 'int',\n",
       " 'int16',\n",
       " 'int32',\n",
       " 'int64',\n",
       " 'int8',\n",
       " 'inverse',\n",
       " 'irfft',\n",
       " 'is_distributed',\n",
       " 'is_floating_point',\n",
       " 'is_grad_enabled',\n",
       " 'is_nonzero',\n",
       " 'is_same_size',\n",
       " 'is_signed',\n",
       " 'is_storage',\n",
       " 'is_tensor',\n",
       " 'isclose',\n",
       " 'isnan',\n",
       " 'jit',\n",
       " 'kthvalue',\n",
       " 'layer_norm',\n",
       " 'layout',\n",
       " 'le',\n",
       " 'lerp',\n",
       " 'lgamma',\n",
       " 'linspace',\n",
       " 'load',\n",
       " 'log',\n",
       " 'log10',\n",
       " 'log1p',\n",
       " 'log2',\n",
       " 'log_',\n",
       " 'logdet',\n",
       " 'logspace',\n",
       " 'long',\n",
       " 'lt',\n",
       " 'manual_seed',\n",
       " 'margin_ranking_loss',\n",
       " 'masked_select',\n",
       " 'matmul',\n",
       " 'max',\n",
       " 'max_pool1d',\n",
       " 'mean',\n",
       " 'median',\n",
       " 'min',\n",
       " 'mkldnn_convolution',\n",
       " 'mkldnn_convolution_backward_weights',\n",
       " 'mm',\n",
       " 'mode',\n",
       " 'mul',\n",
       " 'multinomial',\n",
       " 'multiprocessing',\n",
       " 'mv',\n",
       " 'name',\n",
       " 'narrow',\n",
       " 'ne',\n",
       " 'neg',\n",
       " 'nn',\n",
       " 'no_grad',\n",
       " 'nonzero',\n",
       " 'norm',\n",
       " 'normal',\n",
       " 'numel',\n",
       " 'ones',\n",
       " 'ones_like',\n",
       " 'onnx',\n",
       " 'optim',\n",
       " 'orgqr',\n",
       " 'ormqr',\n",
       " 'pairwise_distance',\n",
       " 'pin_memory',\n",
       " 'platform',\n",
       " 'poisson',\n",
       " 'polygamma',\n",
       " 'potrf',\n",
       " 'potri',\n",
       " 'potrs',\n",
       " 'pow',\n",
       " 'prod',\n",
       " 'pstrf',\n",
       " 'qr',\n",
       " 'rand',\n",
       " 'rand_like',\n",
       " 'randint',\n",
       " 'randint_like',\n",
       " 'randn',\n",
       " 'randn_like',\n",
       " 'random',\n",
       " 'randperm',\n",
       " 'range',\n",
       " 'reciprocal',\n",
       " 'relu',\n",
       " 'relu_',\n",
       " 'remainder',\n",
       " 'renorm',\n",
       " 'reshape',\n",
       " 'rfft',\n",
       " 'round',\n",
       " 'round_',\n",
       " 'rrelu',\n",
       " 'rrelu_',\n",
       " 'rsqrt',\n",
       " 'saddmm',\n",
       " 'save',\n",
       " 'select',\n",
       " 'selu',\n",
       " 'selu_',\n",
       " 'serialization',\n",
       " 'set_default_dtype',\n",
       " 'set_default_tensor_type',\n",
       " 'set_flush_denormal',\n",
       " 'set_grad_enabled',\n",
       " 'set_num_threads',\n",
       " 'set_printoptions',\n",
       " 'set_rng_state',\n",
       " 'short',\n",
       " 'sigmoid',\n",
       " 'sign',\n",
       " 'sin',\n",
       " 'sin_',\n",
       " 'sinh',\n",
       " 'slice',\n",
       " 'slogdet',\n",
       " 'smm',\n",
       " 'sort',\n",
       " 'sparse',\n",
       " 'sparse_coo',\n",
       " 'sparse_coo_tensor',\n",
       " 'split',\n",
       " 'split_with_sizes',\n",
       " 'spmm',\n",
       " 'sqrt',\n",
       " 'sqrt_',\n",
       " 'squeeze',\n",
       " 'sspaddmm',\n",
       " 'stack',\n",
       " 'std',\n",
       " 'stft',\n",
       " 'storage',\n",
       " 'strided',\n",
       " 'sub',\n",
       " 'sum',\n",
       " 'svd',\n",
       " 'symeig',\n",
       " 'sys',\n",
       " 't',\n",
       " 'take',\n",
       " 'tan',\n",
       " 'tanh',\n",
       " 'tensor',\n",
       " 'testing',\n",
       " 'topk',\n",
       " 'torch',\n",
       " 'trace',\n",
       " 'transpose',\n",
       " 'tril',\n",
       " 'triplet_margin_loss',\n",
       " 'triu',\n",
       " 'trtrs',\n",
       " 'trunc',\n",
       " 'trunc_',\n",
       " 'typename',\n",
       " 'uint8',\n",
       " 'unbind',\n",
       " 'unique',\n",
       " 'unsqueeze',\n",
       " 'utils',\n",
       " 'var',\n",
       " 'version',\n",
       " 'where',\n",
       " 'zeros',\n",
       " 'zeros_like']"
      ]
     },
     "execution_count": 151,
     "metadata": {},
     "output_type": "execute_result"
    }
   ],
   "source": [
    "dir(torch)"
   ]
  },
  {
   "cell_type": "code",
   "execution_count": 139,
   "metadata": {},
   "outputs": [],
   "source": [
    "model = models.vgg11(pretrained=True)"
   ]
  },
  {
   "cell_type": "code",
   "execution_count": 8,
   "metadata": {},
   "outputs": [],
   "source": [
    "torch.save(model, 'vgg11.pkl')"
   ]
  },
  {
   "cell_type": "code",
   "execution_count": 76,
   "metadata": {},
   "outputs": [
    {
     "name": "stdout",
     "output_type": "stream",
     "text": [
      "0\n",
      "torch.Size([64, 3, 3, 3])\n",
      "1\n",
      "torch.Size([64])\n",
      "2\n",
      "torch.Size([128, 64, 3, 3])\n",
      "3\n",
      "torch.Size([128])\n",
      "4\n",
      "torch.Size([256, 128, 3, 3])\n",
      "5\n",
      "torch.Size([256])\n",
      "6\n",
      "torch.Size([256, 256, 3, 3])\n",
      "7\n",
      "torch.Size([256])\n",
      "8\n",
      "torch.Size([512, 256, 3, 3])\n",
      "9\n",
      "torch.Size([512])\n",
      "10\n",
      "torch.Size([512, 512, 3, 3])\n",
      "11\n",
      "torch.Size([512])\n",
      "12\n",
      "torch.Size([512, 512, 3, 3])\n",
      "13\n",
      "torch.Size([512])\n",
      "14\n",
      "torch.Size([64, 512, 3, 3])\n",
      "15\n",
      "torch.Size([64])\n",
      "16\n",
      "torch.Size([4096, 25088])\n",
      "17\n",
      "torch.Size([4096])\n",
      "18\n",
      "torch.Size([4096, 4096])\n",
      "19\n",
      "torch.Size([4096])\n",
      "20\n",
      "torch.Size([1000, 4096])\n",
      "21\n",
      "torch.Size([1000])\n"
     ]
    }
   ],
   "source": [
    "for i, j in enumerate(model.parameters()):\n",
    "#     if i == 13:\n",
    "    print(i)\n",
    "    print(j.shape)"
   ]
  },
  {
   "cell_type": "code",
   "execution_count": 121,
   "metadata": {},
   "outputs": [
    {
     "name": "stdout",
     "output_type": "stream",
     "text": [
      "Parameter containing:\n",
      "tensor([ 0.1939,  0.3042,  0.1825, -1.1122,  0.0442, -0.0678,  0.1324,\n",
      "        -0.5846,  0.2210, -0.0130, -0.3794,  0.1256,  0.2415,  0.2491,\n",
      "        -0.7849, -1.0575,  0.2637, -0.1838,  0.1533, -1.1485,  0.0095,\n",
      "        -0.8640, -0.3903, -0.4040,  0.5775,  0.2528,  0.0911,  0.1554,\n",
      "        -0.1833, -0.4766, -0.2352, -1.1038, -0.5924,  0.2940,  0.1892,\n",
      "         0.4142, -0.0220,  0.1800, -0.5532,  0.2365,  0.1548, -1.7165,\n",
      "        -0.0318,  0.0494,  0.1286,  0.1860,  0.1789,  0.4679, -0.0066,\n",
      "        -0.0948, -1.4731, -0.7618, -1.2010,  0.1765,  0.2015, -0.0822,\n",
      "         0.1453,  0.0289, -1.2024,  0.1595, -0.8845, -0.0075,  0.2292,\n",
      "        -1.3837])\n"
     ]
    }
   ],
   "source": [
    "for i, j in enumerate(model.parameters()):\n",
    "    if i == 1:\n",
    "        print(j)\n",
    "#     print(i)\n",
    "#     print(j.shape)\n",
    "    #开始的 时候参数"
   ]
  },
  {
   "cell_type": "code",
   "execution_count": 123,
   "metadata": {},
   "outputs": [
    {
     "name": "stdout",
     "output_type": "stream",
     "text": [
      "Parameter containing:\n",
      "tensor([ 0.1939,  0.3042,  0.1825, -1.1122,  0.0442, -0.0678,  0.1324,\n",
      "        -0.5846,  0.2210, -0.0130, -0.3794,  0.1256,  0.2415,  0.2491,\n",
      "        -0.7849, -1.0575,  0.2637, -0.1838,  0.1533, -1.1485,  0.0095,\n",
      "        -0.8640, -0.3903, -0.4040,  0.5775,  0.2528,  0.0911,  0.1554,\n",
      "        -0.1833, -0.4766, -0.2352, -1.1038, -0.5924,  0.2940,  0.1892,\n",
      "         0.4142, -0.0220,  0.1800, -0.5532,  0.2365,  0.1548, -1.7165,\n",
      "        -0.0318,  0.0494,  0.1286,  0.1860,  0.1789,  0.4679, -0.0066,\n",
      "        -0.0948, -1.4731, -0.7618, -1.2010,  0.1765,  0.2015, -0.0822,\n",
      "         0.1453,  0.0289, -1.2024,  0.1595, -0.8845, -0.0075,  0.2292,\n",
      "        -1.3837])\n"
     ]
    }
   ],
   "source": [
    "for i, j in enumerate(model.parameters()):\n",
    "    if i == 1:\n",
    "        data = j\n",
    "        print(j)\n",
    "#     print(i)\n",
    "#         print(shape)\n",
    "    "
   ]
  },
  {
   "cell_type": "code",
   "execution_count": 118,
   "metadata": {},
   "outputs": [],
   "source": [
    "data = data.data.numpy()"
   ]
  },
  {
   "cell_type": "code",
   "execution_count": 89,
   "metadata": {
    "collapsed": true
   },
   "outputs": [],
   "source": [
    "import matplotlib.pyplot as plt"
   ]
  },
  {
   "cell_type": "code",
   "execution_count": 94,
   "metadata": {},
   "outputs": [
    {
     "data": {
      "text/plain": [
       "array([-0.01366497,  0.01078615,  0.01254277, ...,  0.00276946,\n",
       "        0.01462755, -0.00102475], dtype=float32)"
      ]
     },
     "execution_count": 94,
     "metadata": {},
     "output_type": "execute_result"
    }
   ],
   "source": [
    "data.reshape(-1)"
   ]
  },
  {
   "cell_type": "code",
   "execution_count": 99,
   "metadata": {
    "collapsed": true
   },
   "outputs": [],
   "source": [
    "import numpy as np"
   ]
  },
  {
   "cell_type": "code",
   "execution_count": 109,
   "metadata": {},
   "outputs": [
    {
     "data": {
      "image/png": "[encoded data removed]",
      "text/plain": [
       "<matplotlib.figure.Figure at 0x67799630>"
      ]
     },
     "metadata": {},
     "output_type": "display_data"
    }
   ],
   "source": [
    "data1 = np.random.normal(size=[1000])\n",
    "plt.plot(data1)\n",
    "plt.show()"
   ]
  },
  {
   "cell_type": "code",
   "execution_count": 107,
   "metadata": {},
   "outputs": [
    {
     "data": {
      "image/png": "[encoded data removed]",
      "text/plain": [
       "<matplotlib.figure.Figure at 0x676e74e0>"
      ]
     },
     "metadata": {},
     "output_type": "display_data"
    }
   ],
   "source": [
    "data1 = np.random.rand(10000)\n",
    "plt.plot(data1)\n",
    "plt.show()"
   ]
  },
  {
   "cell_type": "code",
   "execution_count": 119,
   "metadata": {},
   "outputs": [
    {
     "data": {
      "image/png": "[encoded data removed]",
      "text/plain": [
       "<matplotlib.figure.Figure at 0x67715780>"
      ]
     },
     "metadata": {},
     "output_type": "display_data"
    },
    {
     "data": {
      "image/png": "[encoded data removed]",
      "text/plain": [
       "<matplotlib.figure.Figure at 0x56ada7f0>"
      ]
     },
     "metadata": {},
     "output_type": "display_data"
    },
    {
     "data": {
      "image/png": "[encoded data removed]",
      "text/plain": [
       "<matplotlib.figure.Figure at 0x9072390>"
      ]
     },
     "metadata": {},
     "output_type": "display_data"
    }
   ],
   "source": [
    "plt.figure(figsize=[15, 5])\n",
    "plt.plot(data.reshape(-1))\n",
    "plt.show()"
   ]
  },
  {
   "cell_type": "code",
   "execution_count": 84,
   "metadata": {},
   "outputs": [
    {
     "data": {
      "text/plain": [
       "102760448"
      ]
     },
     "execution_count": 84,
     "metadata": {},
     "output_type": "execute_result"
    }
   ],
   "source": [
    "25088*4096"
   ]
  },
  {
   "cell_type": "code",
   "execution_count": 28,
   "metadata": {},
   "outputs": [
    {
     "data": {
      "text/plain": [
       "2359296"
      ]
     },
     "execution_count": 28,
     "metadata": {},
     "output_type": "execute_result"
    }
   ],
   "source": [
    "512*512*9"
   ]
  },
  {
   "cell_type": "code",
   "execution_count": 22,
   "metadata": {},
   "outputs": [
    {
     "data": {
      "text/plain": [
       "torchvision.models.vgg.VGG"
      ]
     },
     "execution_count": 22,
     "metadata": {},
     "output_type": "execute_result"
    }
   ],
   "source": [
    "type(model)"
   ]
  },
  {
   "cell_type": "code",
   "execution_count": 47,
   "metadata": {},
   "outputs": [
    {
     "data": {
      "text/plain": [
       "VGG(\n",
       "  (features): Sequential(\n",
       "    (0): Conv2d(3, 64, kernel_size=(3, 3), stride=(1, 1), padding=(1, 1))\n",
       "    (1): ReLU(inplace)\n",
       "    (2): MaxPool2d(kernel_size=2, stride=2, padding=0, dilation=1, ceil_mode=False)\n",
       "    (3): Conv2d(64, 128, kernel_size=(3, 3), stride=(1, 1), padding=(1, 1))\n",
       "    (4): ReLU(inplace)\n",
       "    (5): MaxPool2d(kernel_size=2, stride=2, padding=0, dilation=1, ceil_mode=False)\n",
       "    (6): Conv2d(128, 256, kernel_size=(3, 3), stride=(1, 1), padding=(1, 1))\n",
       "    (7): ReLU(inplace)\n",
       "    (8): Conv2d(256, 256, kernel_size=(3, 3), stride=(1, 1), padding=(1, 1))\n",
       "    (9): ReLU(inplace)\n",
       "    (10): MaxPool2d(kernel_size=2, stride=2, padding=0, dilation=1, ceil_mode=False)\n",
       "    (11): Conv2d(256, 512, kernel_size=(3, 3), stride=(1, 1), padding=(1, 1))\n",
       "    (12): ReLU(inplace)\n",
       "    (13): Conv2d(512, 512, kernel_size=(3, 3), stride=(1, 1), padding=(1, 1))\n",
       "    (14): ReLU(inplace)\n",
       "    (15): MaxPool2d(kernel_size=2, stride=2, padding=0, dilation=1, ceil_mode=False)\n",
       "    (16): Conv2d(512, 512, kernel_size=(3, 3), stride=(1, 1), padding=(1, 1))\n",
       "    (17): ReLU(inplace)\n",
       "    (18): Conv2d(512, 512, kernel_size=(3, 3), stride=(1, 1), padding=(1, 1))\n",
       "    (19): ReLU(inplace)\n",
       "    (20): MaxPool2d(kernel_size=2, stride=2, padding=0, dilation=1, ceil_mode=False)\n",
       "  )\n",
       "  (classifier): Sequential(\n",
       "    (0): Linear(in_features=25088, out_features=4096, bias=True)\n",
       "    (1): ReLU(inplace)\n",
       "    (2): Dropout(p=0.5)\n",
       "    (3): Linear(in_features=4096, out_features=4096, bias=True)\n",
       "    (4): ReLU(inplace)\n",
       "    (5): Dropout(p=0.5)\n",
       "    (6): Linear(in_features=4096, out_features=1000, bias=True)\n",
       "  )\n",
       ")"
      ]
     },
     "execution_count": 47,
     "metadata": {},
     "output_type": "execute_result"
    }
   ],
   "source": [
    "model"
   ]
  },
  {
   "cell_type": "code",
   "execution_count": 122,
   "metadata": {},
   "outputs": [],
   "source": [
    "model.features[18] = torch.nn.Conv2d(512, 64, kernel_size=(3, 3), stride=(1, 1), padding=(1, 1))"
   ]
  },
  {
   "cell_type": "code",
   "execution_count": 70,
   "metadata": {},
   "outputs": [
    {
     "name": "stdout",
     "output_type": "stream",
     "text": [
      "VGG(\n",
      "  (features): Sequential(\n",
      "    (0): Conv2d(3, 64, kernel_size=(3, 3), stride=(1, 1), padding=(1, 1))\n",
      "    (1): ReLU(inplace)\n",
      "    (2): MaxPool2d(kernel_size=2, stride=2, padding=0, dilation=1, ceil_mode=False)\n",
      "    (3): Conv2d(64, 128, kernel_size=(3, 3), stride=(1, 1), padding=(1, 1))\n",
      "    (4): ReLU(inplace)\n",
      "    (5): MaxPool2d(kernel_size=2, stride=2, padding=0, dilation=1, ceil_mode=False)\n",
      "    (6): Conv2d(128, 256, kernel_size=(3, 3), stride=(1, 1), padding=(1, 1))\n",
      "    (7): ReLU(inplace)\n",
      "    (8): Conv2d(256, 256, kernel_size=(3, 3), stride=(1, 1), padding=(1, 1))\n",
      "    (9): ReLU(inplace)\n",
      "    (10): MaxPool2d(kernel_size=2, stride=2, padding=0, dilation=1, ceil_mode=False)\n",
      "    (11): Conv2d(256, 512, kernel_size=(3, 3), stride=(1, 1), padding=(1, 1))\n",
      "    (12): ReLU(inplace)\n",
      "    (13): Conv2d(512, 512, kernel_size=(3, 3), stride=(1, 1), padding=(1, 1))\n",
      "    (14): ReLU(inplace)\n",
      "    (15): MaxPool2d(kernel_size=2, stride=2, padding=0, dilation=1, ceil_mode=False)\n",
      "    (16): Conv2d(512, 512, kernel_size=(3, 3), stride=(1, 1), padding=(1, 1))\n",
      "    (17): ReLU(inplace)\n",
      "    (18): Conv2d(512, 64, kernel_size=(3, 3), stride=(1, 1), padding=(1, 1))\n",
      "    (19): ReLU(inplace)\n",
      "    (20): MaxPool2d(kernel_size=2, stride=2, padding=0, dilation=1, ceil_mode=False)\n",
      "  )\n",
      "  (classifier): Sequential(\n",
      "    (0): Linear(in_features=25088, out_features=4096, bias=True)\n",
      "    (1): ReLU(inplace)\n",
      "    (2): Dropout(p=0.5)\n",
      "    (3): Linear(in_features=4096, out_features=4096, bias=True)\n",
      "    (4): ReLU(inplace)\n",
      "    (5): Dropout(p=0.5)\n",
      "    (6): Linear(in_features=4096, out_features=1000, bias=True)\n",
      "  )\n",
      ")\n"
     ]
    }
   ],
   "source": [
    "print(model)"
   ]
  },
  {
   "cell_type": "code",
   "execution_count": 71,
   "metadata": {},
   "outputs": [
    {
     "name": "stdout",
     "output_type": "stream",
     "text": [
      "Parameter containing:\n",
      "tensor([[[[ 0.2882,  0.0358, -0.3850],\n",
      "          [ 0.1795,  0.3668, -0.5012],\n",
      "          [-0.0974,  0.3648, -0.2296]],\n",
      "\n",
      "         [[ 0.4015, -0.0461, -0.6842],\n",
      "          [ 0.4442,  0.4478, -0.7949],\n",
      "          [ 0.1129,  0.4917, -0.3705]],\n",
      "\n",
      "         [[ 0.2162, -0.0290, -0.3949],\n",
      "          [ 0.1490,  0.2967, -0.4294],\n",
      "          [-0.0095,  0.3479, -0.1558]]],\n",
      "\n",
      "\n",
      "        [[[-0.3528, -0.2549,  0.6734],\n",
      "          [-0.6027, -0.3453,  0.8054],\n",
      "          [-0.4197, -0.1347,  0.6622]],\n",
      "\n",
      "         [[-0.5740, -0.3998,  0.7708],\n",
      "          [-0.8758, -0.3668,  1.1098],\n",
      "          [-0.5186, -0.0801,  0.9228]],\n",
      "\n",
      "         [[-0.0280, -0.2954,  0.2159],\n",
      "          [-0.1868, -0.2904,  0.3808],\n",
      "          [-0.0926, -0.0766,  0.3727]]],\n",
      "\n",
      "\n",
      "        [[[ 0.0650, -0.2592, -0.2389],\n",
      "          [ 0.3209,  0.2152, -0.2047],\n",
      "          [-0.0443,  0.2227, -0.0452]],\n",
      "\n",
      "         [[ 0.0290, -0.4797, -0.5490],\n",
      "          [ 0.5363,  0.2973, -0.3728],\n",
      "          [ 0.1776,  0.4145, -0.0436]],\n",
      "\n",
      "         [[ 0.0033, -0.3427, -0.3938],\n",
      "          [ 0.3794,  0.1943, -0.2603],\n",
      "          [ 0.1459,  0.2964, -0.0333]]],\n",
      "\n",
      "\n",
      "        ...,\n",
      "\n",
      "\n",
      "        [[[ 0.4208,  0.5328,  0.2592],\n",
      "          [-0.8361, -0.9358, -0.3850],\n",
      "          [ 0.3817,  0.4249,  0.1484]],\n",
      "\n",
      "         [[ 0.5396,  0.6907,  0.3637],\n",
      "          [-1.0659, -1.2236, -0.5555],\n",
      "          [ 0.5017,  0.5402,  0.2012]],\n",
      "\n",
      "         [[ 0.2086,  0.2754,  0.0017],\n",
      "          [-0.5794, -0.6839, -0.2688],\n",
      "          [ 0.4031,  0.4799,  0.1611]]],\n",
      "\n",
      "\n",
      "        [[[ 0.2121,  0.3241,  0.0817],\n",
      "          [ 0.3186,  0.4458,  0.1481],\n",
      "          [ 0.0512,  0.1552, -0.0759]],\n",
      "\n",
      "         [[-0.2936, -0.4400, -0.2273],\n",
      "          [-0.5096, -0.6494, -0.3605],\n",
      "          [-0.2812, -0.3833, -0.1996]],\n",
      "\n",
      "         [[ 0.1334,  0.1664,  0.1355],\n",
      "          [ 0.2118,  0.2306,  0.2332],\n",
      "          [ 0.2063,  0.2109,  0.1828]]],\n",
      "\n",
      "\n",
      "        [[[ 0.0886,  0.1445,  0.2239],\n",
      "          [-0.1609, -0.1317,  0.1232],\n",
      "          [-0.2115, -0.1493,  0.0707]],\n",
      "\n",
      "         [[-0.1374, -0.1351, -0.0249],\n",
      "          [-0.3027, -0.3286, -0.1028],\n",
      "          [-0.2908, -0.2614, -0.0867]],\n",
      "\n",
      "         [[ 0.0837,  0.1193,  0.1322],\n",
      "          [ 0.0126, -0.0202,  0.1318],\n",
      "          [-0.0201,  0.0228,  0.1438]]]])\n"
     ]
    }
   ],
   "source": [
    "for i in model.features.parameters():\n",
    "    print(i)\n",
    "    break"
   ]
  },
  {
   "cell_type": "code",
   "execution_count": 68,
   "metadata": {},
   "outputs": [
    {
     "name": "stdout",
     "output_type": "stream",
     "text": [
      "Parameter containing:\n",
      "tensor([[[[ 0.2882,  0.0358, -0.3850],\n",
      "          [ 0.1795,  0.3668, -0.5012],\n",
      "          [-0.0974,  0.3648, -0.2296]],\n",
      "\n",
      "         [[ 0.4015, -0.0461, -0.6842],\n",
      "          [ 0.4442,  0.4478, -0.7949],\n",
      "          [ 0.1129,  0.4917, -0.3705]],\n",
      "\n",
      "         [[ 0.2162, -0.0290, -0.3949],\n",
      "          [ 0.1490,  0.2967, -0.4294],\n",
      "          [-0.0095,  0.3479, -0.1558]]],\n",
      "\n",
      "\n",
      "        [[[-0.3528, -0.2549,  0.6734],\n",
      "          [-0.6027, -0.3453,  0.8054],\n",
      "          [-0.4197, -0.1347,  0.6622]],\n",
      "\n",
      "         [[-0.5740, -0.3998,  0.7708],\n",
      "          [-0.8758, -0.3668,  1.1098],\n",
      "          [-0.5186, -0.0801,  0.9228]],\n",
      "\n",
      "         [[-0.0280, -0.2954,  0.2159],\n",
      "          [-0.1868, -0.2904,  0.3808],\n",
      "          [-0.0926, -0.0766,  0.3727]]],\n",
      "\n",
      "\n",
      "        [[[ 0.0650, -0.2592, -0.2389],\n",
      "          [ 0.3209,  0.2152, -0.2047],\n",
      "          [-0.0443,  0.2227, -0.0452]],\n",
      "\n",
      "         [[ 0.0290, -0.4797, -0.5490],\n",
      "          [ 0.5363,  0.2973, -0.3728],\n",
      "          [ 0.1776,  0.4145, -0.0436]],\n",
      "\n",
      "         [[ 0.0033, -0.3427, -0.3938],\n",
      "          [ 0.3794,  0.1943, -0.2603],\n",
      "          [ 0.1459,  0.2964, -0.0333]]],\n",
      "\n",
      "\n",
      "        ...,\n",
      "\n",
      "\n",
      "        [[[ 0.4208,  0.5328,  0.2592],\n",
      "          [-0.8361, -0.9358, -0.3850],\n",
      "          [ 0.3817,  0.4249,  0.1484]],\n",
      "\n",
      "         [[ 0.5396,  0.6907,  0.3637],\n",
      "          [-1.0659, -1.2236, -0.5555],\n",
      "          [ 0.5017,  0.5402,  0.2012]],\n",
      "\n",
      "         [[ 0.2086,  0.2754,  0.0017],\n",
      "          [-0.5794, -0.6839, -0.2688],\n",
      "          [ 0.4031,  0.4799,  0.1611]]],\n",
      "\n",
      "\n",
      "        [[[ 0.2121,  0.3241,  0.0817],\n",
      "          [ 0.3186,  0.4458,  0.1481],\n",
      "          [ 0.0512,  0.1552, -0.0759]],\n",
      "\n",
      "         [[-0.2936, -0.4400, -0.2273],\n",
      "          [-0.5096, -0.6494, -0.3605],\n",
      "          [-0.2812, -0.3833, -0.1996]],\n",
      "\n",
      "         [[ 0.1334,  0.1664,  0.1355],\n",
      "          [ 0.2118,  0.2306,  0.2332],\n",
      "          [ 0.2063,  0.2109,  0.1828]]],\n",
      "\n",
      "\n",
      "        [[[ 0.0886,  0.1445,  0.2239],\n",
      "          [-0.1609, -0.1317,  0.1232],\n",
      "          [-0.2115, -0.1493,  0.0707]],\n",
      "\n",
      "         [[-0.1374, -0.1351, -0.0249],\n",
      "          [-0.3027, -0.3286, -0.1028],\n",
      "          [-0.2908, -0.2614, -0.0867]],\n",
      "\n",
      "         [[ 0.0837,  0.1193,  0.1322],\n",
      "          [ 0.0126, -0.0202,  0.1318],\n",
      "          [-0.0201,  0.0228,  0.1438]]]])\n"
     ]
    }
   ],
   "source": [
    "for i in model.features.parameters():\n",
    "    print(i)\n",
    "    break"
   ]
  },
  {
   "cell_type": "code",
   "execution_count": 65,
   "metadata": {},
   "outputs": [
    {
     "name": "stdout",
     "output_type": "stream",
     "text": [
      "torch.Size([64, 3, 3, 3])\n",
      "torch.Size([64])\n",
      "torch.Size([128, 64, 3, 3])\n",
      "torch.Size([128])\n",
      "torch.Size([256, 128, 3, 3])\n",
      "torch.Size([256])\n",
      "torch.Size([256, 256, 3, 3])\n",
      "torch.Size([256])\n",
      "torch.Size([512, 256, 3, 3])\n",
      "torch.Size([512])\n",
      "torch.Size([512, 512, 3, 3])\n",
      "torch.Size([512])\n",
      "torch.Size([512, 512, 3, 3])\n",
      "torch.Size([512])\n",
      "torch.Size([64, 512, 3, 3])\n",
      "torch.Size([64])\n"
     ]
    }
   ],
   "source": [
    "for i in model.features.parameters():\n",
    "    print(i.shape)"
   ]
  },
  {
   "cell_type": "code",
   "execution_count": 66,
   "metadata": {},
   "outputs": [
    {
     "data": {
      "text/plain": [
       "3136"
      ]
     },
     "execution_count": 66,
     "metadata": {},
     "output_type": "execute_result"
    }
   ],
   "source": [
    "64*49"
   ]
  },
  {
   "cell_type": "code",
   "execution_count": 16,
   "metadata": {},
   "outputs": [
    {
     "name": "stdout",
     "output_type": "stream",
     "text": [
      "22\n"
     ]
    },
    {
     "data": {
      "text/plain": [
       "odict_keys(['features.0.weight', 'features.0.bias', 'features.3.weight', 'features.3.bias', 'features.6.weight', 'features.6.bias', 'features.8.weight', 'features.8.bias', 'features.11.weight', 'features.11.bias', 'features.13.weight', 'features.13.bias', 'features.16.weight', 'features.16.bias', 'features.18.weight', 'features.18.bias', 'classifier.0.weight', 'classifier.0.bias', 'classifier.3.weight', 'classifier.3.bias', 'classifier.6.weight', 'classifier.6.bias'])"
      ]
     },
     "execution_count": 16,
     "metadata": {},
     "output_type": "execute_result"
    }
   ],
   "source": [
    "print(len(model.state_dict().keys()))\n",
    "model.state_dict().keys()"
   ]
  },
  {
   "cell_type": "code",
   "execution_count": 17,
   "metadata": {},
   "outputs": [
    {
     "name": "stdout",
     "output_type": "stream",
     "text": [
      "VGG(\n",
      "  (features): Sequential(\n",
      "    (0): Conv2d(3, 64, kernel_size=(3, 3), stride=(1, 1), padding=(1, 1))\n",
      "    (1): ReLU(inplace)\n",
      "    (2): MaxPool2d(kernel_size=2, stride=2, padding=0, dilation=1, ceil_mode=False)\n",
      "    (3): Conv2d(64, 128, kernel_size=(3, 3), stride=(1, 1), padding=(1, 1))\n",
      "    (4): ReLU(inplace)\n",
      "    (5): MaxPool2d(kernel_size=2, stride=2, padding=0, dilation=1, ceil_mode=False)\n",
      "    (6): Conv2d(128, 256, kernel_size=(3, 3), stride=(1, 1), padding=(1, 1))\n",
      "    (7): ReLU(inplace)\n",
      "    (8): Conv2d(256, 256, kernel_size=(3, 3), stride=(1, 1), padding=(1, 1))\n",
      "    (9): ReLU(inplace)\n",
      "    (10): MaxPool2d(kernel_size=2, stride=2, padding=0, dilation=1, ceil_mode=False)\n",
      "    (11): Conv2d(256, 512, kernel_size=(3, 3), stride=(1, 1), padding=(1, 1))\n",
      "    (12): ReLU(inplace)\n",
      "    (13): Conv2d(512, 512, kernel_size=(3, 3), stride=(1, 1), padding=(1, 1))\n",
      "    (14): ReLU(inplace)\n",
      "    (15): MaxPool2d(kernel_size=2, stride=2, padding=0, dilation=1, ceil_mode=False)\n",
      "    (16): Conv2d(512, 512, kernel_size=(3, 3), stride=(1, 1), padding=(1, 1))\n",
      "    (17): ReLU(inplace)\n",
      "    (18): Conv2d(512, 512, kernel_size=(3, 3), stride=(1, 1), padding=(1, 1))\n",
      "    (19): ReLU(inplace)\n",
      "    (20): MaxPool2d(kernel_size=2, stride=2, padding=0, dilation=1, ceil_mode=False)\n",
      "  )\n",
      "  (classifier): Sequential(\n",
      "    (0): Linear(in_features=25088, out_features=4096, bias=True)\n",
      "    (1): ReLU(inplace)\n",
      "    (2): Dropout(p=0.5)\n",
      "    (3): Linear(in_features=4096, out_features=4096, bias=True)\n",
      "    (4): ReLU(inplace)\n",
      "    (5): Dropout(p=0.5)\n",
      "    (6): Linear(in_features=4096, out_features=1000, bias=True)\n",
      "  )\n",
      ")\n",
      "<class 'torchvision.models.vgg.VGG'>\n",
      "Sequential(\n",
      "  (0): Conv2d(3, 64, kernel_size=(3, 3), stride=(1, 1), padding=(1, 1))\n",
      "  (1): ReLU(inplace)\n",
      "  (2): MaxPool2d(kernel_size=2, stride=2, padding=0, dilation=1, ceil_mode=False)\n",
      "  (3): Conv2d(64, 128, kernel_size=(3, 3), stride=(1, 1), padding=(1, 1))\n",
      "  (4): ReLU(inplace)\n",
      "  (5): MaxPool2d(kernel_size=2, stride=2, padding=0, dilation=1, ceil_mode=False)\n",
      "  (6): Conv2d(128, 256, kernel_size=(3, 3), stride=(1, 1), padding=(1, 1))\n",
      "  (7): ReLU(inplace)\n",
      "  (8): Conv2d(256, 256, kernel_size=(3, 3), stride=(1, 1), padding=(1, 1))\n",
      "  (9): ReLU(inplace)\n",
      "  (10): MaxPool2d(kernel_size=2, stride=2, padding=0, dilation=1, ceil_mode=False)\n",
      "  (11): Conv2d(256, 512, kernel_size=(3, 3), stride=(1, 1), padding=(1, 1))\n",
      "  (12): ReLU(inplace)\n",
      "  (13): Conv2d(512, 512, kernel_size=(3, 3), stride=(1, 1), padding=(1, 1))\n",
      "  (14): ReLU(inplace)\n",
      "  (15): MaxPool2d(kernel_size=2, stride=2, padding=0, dilation=1, ceil_mode=False)\n",
      "  (16): Conv2d(512, 512, kernel_size=(3, 3), stride=(1, 1), padding=(1, 1))\n",
      "  (17): ReLU(inplace)\n",
      "  (18): Conv2d(512, 512, kernel_size=(3, 3), stride=(1, 1), padding=(1, 1))\n",
      "  (19): ReLU(inplace)\n",
      "  (20): MaxPool2d(kernel_size=2, stride=2, padding=0, dilation=1, ceil_mode=False)\n",
      ")\n",
      "<class 'torch.nn.modules.container.Sequential'>\n",
      "Conv2d(3, 64, kernel_size=(3, 3), stride=(1, 1), padding=(1, 1))\n",
      "<class 'torch.nn.modules.conv.Conv2d'>\n",
      "ReLU(inplace)\n",
      "<class 'torch.nn.modules.activation.ReLU'>\n",
      "MaxPool2d(kernel_size=2, stride=2, padding=0, dilation=1, ceil_mode=False)\n",
      "<class 'torch.nn.modules.pooling.MaxPool2d'>\n",
      "Conv2d(64, 128, kernel_size=(3, 3), stride=(1, 1), padding=(1, 1))\n",
      "<class 'torch.nn.modules.conv.Conv2d'>\n",
      "ReLU(inplace)\n",
      "<class 'torch.nn.modules.activation.ReLU'>\n",
      "MaxPool2d(kernel_size=2, stride=2, padding=0, dilation=1, ceil_mode=False)\n",
      "<class 'torch.nn.modules.pooling.MaxPool2d'>\n",
      "Conv2d(128, 256, kernel_size=(3, 3), stride=(1, 1), padding=(1, 1))\n",
      "<class 'torch.nn.modules.conv.Conv2d'>\n",
      "ReLU(inplace)\n",
      "<class 'torch.nn.modules.activation.ReLU'>\n",
      "Conv2d(256, 256, kernel_size=(3, 3), stride=(1, 1), padding=(1, 1))\n",
      "<class 'torch.nn.modules.conv.Conv2d'>\n",
      "ReLU(inplace)\n",
      "<class 'torch.nn.modules.activation.ReLU'>\n",
      "MaxPool2d(kernel_size=2, stride=2, padding=0, dilation=1, ceil_mode=False)\n",
      "<class 'torch.nn.modules.pooling.MaxPool2d'>\n",
      "Conv2d(256, 512, kernel_size=(3, 3), stride=(1, 1), padding=(1, 1))\n",
      "<class 'torch.nn.modules.conv.Conv2d'>\n",
      "ReLU(inplace)\n",
      "<class 'torch.nn.modules.activation.ReLU'>\n",
      "Conv2d(512, 512, kernel_size=(3, 3), stride=(1, 1), padding=(1, 1))\n",
      "<class 'torch.nn.modules.conv.Conv2d'>\n",
      "ReLU(inplace)\n",
      "<class 'torch.nn.modules.activation.ReLU'>\n",
      "MaxPool2d(kernel_size=2, stride=2, padding=0, dilation=1, ceil_mode=False)\n",
      "<class 'torch.nn.modules.pooling.MaxPool2d'>\n",
      "Conv2d(512, 512, kernel_size=(3, 3), stride=(1, 1), padding=(1, 1))\n",
      "<class 'torch.nn.modules.conv.Conv2d'>\n",
      "ReLU(inplace)\n",
      "<class 'torch.nn.modules.activation.ReLU'>\n",
      "Conv2d(512, 512, kernel_size=(3, 3), stride=(1, 1), padding=(1, 1))\n",
      "<class 'torch.nn.modules.conv.Conv2d'>\n",
      "ReLU(inplace)\n",
      "<class 'torch.nn.modules.activation.ReLU'>\n",
      "MaxPool2d(kernel_size=2, stride=2, padding=0, dilation=1, ceil_mode=False)\n",
      "<class 'torch.nn.modules.pooling.MaxPool2d'>\n",
      "Sequential(\n",
      "  (0): Linear(in_features=25088, out_features=4096, bias=True)\n",
      "  (1): ReLU(inplace)\n",
      "  (2): Dropout(p=0.5)\n",
      "  (3): Linear(in_features=4096, out_features=4096, bias=True)\n",
      "  (4): ReLU(inplace)\n",
      "  (5): Dropout(p=0.5)\n",
      "  (6): Linear(in_features=4096, out_features=1000, bias=True)\n",
      ")\n",
      "<class 'torch.nn.modules.container.Sequential'>\n",
      "Linear(in_features=25088, out_features=4096, bias=True)\n",
      "<class 'torch.nn.modules.linear.Linear'>\n",
      "ReLU(inplace)\n",
      "<class 'torch.nn.modules.activation.ReLU'>\n",
      "Dropout(p=0.5)\n",
      "<class 'torch.nn.modules.dropout.Dropout'>\n",
      "Linear(in_features=4096, out_features=4096, bias=True)\n",
      "<class 'torch.nn.modules.linear.Linear'>\n",
      "ReLU(inplace)\n",
      "<class 'torch.nn.modules.activation.ReLU'>\n",
      "Dropout(p=0.5)\n",
      "<class 'torch.nn.modules.dropout.Dropout'>\n",
      "Linear(in_features=4096, out_features=1000, bias=True)\n",
      "<class 'torch.nn.modules.linear.Linear'>\n"
     ]
    }
   ],
   "source": [
    "for i in model.modules():\n",
    "    print(i)\n",
    "    print(type(i))\n",
    "#     break"
   ]
  },
  {
   "cell_type": "code",
   "execution_count": 44,
   "metadata": {
    "collapsed": true
   },
   "outputs": [],
   "source": [
    "import torch.nn as nn\n",
    "import torch.utils.model_zoo as model_zoo\n",
    "import math\n",
    "\n",
    "\n",
    "__all__ = [\n",
    "    'VGG', 'vgg11', 'vgg11_bn', 'vgg13', 'vgg13_bn', 'vgg16', 'vgg16_bn',\n",
    "    'vgg19_bn', 'vgg19',\n",
    "]\n",
    "\n",
    "\n",
    "model_urls = {\n",
    "    'vgg11': 'https://download.pytorch.org/models/vgg11-bbd30ac9.pth',\n",
    "    'vgg13': 'https://download.pytorch.org/models/vgg13-c768596a.pth',\n",
    "    'vgg16': 'https://download.pytorch.org/models/vgg16-397923af.pth',\n",
    "    'vgg19': 'https://download.pytorch.org/models/vgg19-dcbb9e9d.pth',\n",
    "    'vgg11_bn': 'https://download.pytorch.org/models/vgg11_bn-6002323d.pth',\n",
    "    'vgg13_bn': 'https://download.pytorch.org/models/vgg13_bn-abd245e5.pth',\n",
    "    'vgg16_bn': 'https://download.pytorch.org/models/vgg16_bn-6c64b313.pth',\n",
    "    'vgg19_bn': 'https://download.pytorch.org/models/vgg19_bn-c79401a0.pth',\n",
    "}\n",
    "\n",
    "\n",
    "class VGG(nn.Module):\n",
    "\n",
    "    def __init__(self, features, num_classes=1000, init_weights=True):\n",
    "        super(VGG, self).__init__()\n",
    "        self.features = features\n",
    "        self.classifier = nn.Sequential(\n",
    "            nn.Linear(512 * 7 * 7, 4096),\n",
    "            nn.ReLU(True),\n",
    "            nn.Dropout(),\n",
    "            nn.Linear(4096, 4096),\n",
    "            nn.ReLU(True),\n",
    "            nn.Dropout(),\n",
    "            nn.Linear(4096, num_classes),\n",
    "        )\n",
    "        if init_weights:\n",
    "            self._initialize_weights()\n",
    "\n",
    "    def forward(self, x):\n",
    "        x = self.features(x)\n",
    "        x = x.view(x.size(0), -1)\n",
    "        x = self.classifier(x)\n",
    "        return x\n",
    "\n",
    "    def _initialize_weights(self):\n",
    "        for m in self.modules():\n",
    "            if isinstance(m, nn.Conv2d):\n",
    "                nn.init.kaiming_normal_(m.weight, mode='fan_out', nonlinearity='relu')\n",
    "                if m.bias is not None:\n",
    "                    nn.init.constant_(m.bias, 0)\n",
    "            elif isinstance(m, nn.BatchNorm2d):\n",
    "                nn.init.constant_(m.weight, 1)\n",
    "                nn.init.constant_(m.bias, 0)\n",
    "            elif isinstance(m, nn.Linear):\n",
    "                nn.init.normal_(m.weight, 0, 0.01)\n",
    "                nn.init.constant_(m.bias, 0)\n",
    "\n",
    "\n",
    "def make_layers(cfg, batch_norm=False):\n",
    "    layers = []\n",
    "    in_channels = 3\n",
    "    for v in cfg:\n",
    "        if v == 'M':\n",
    "            layers += [nn.MaxPool2d(kernel_size=2, stride=2)]\n",
    "        else:\n",
    "            conv2d = nn.Conv2d(in_channels, v, kernel_size=3, padding=1)\n",
    "            if batch_norm:\n",
    "                layers += [conv2d, nn.BatchNorm2d(v), nn.ReLU(inplace=True)]\n",
    "            else:\n",
    "                layers += [conv2d, nn.ReLU(inplace=True)]\n",
    "            in_channels = v\n",
    "#     print(layers)\n",
    "#     print(*layers)\n",
    "    return nn.Sequential(*layers)\n",
    "\n",
    "\n",
    "cfg = {\n",
    "    'A': [64, 'M', 128, 'M', 256, 256, 'M', 512, 512, 'M', 512, 512, 'M'],\n",
    "    'B': [64, 64, 'M', 128, 128, 'M', 256, 256, 'M', 512, 512, 'M', 512, 512, 'M'],\n",
    "    'D': [64, 64, 'M', 128, 128, 'M', 256, 256, 256, 'M', 512, 512, 512, 'M', 512, 512, 512, 'M'],\n",
    "    'E': [64, 64, 'M', 128, 128, 'M', 256, 256, 256, 256, 'M', 512, 512, 512, 512, 'M', 512, 512, 512, 512, 'M'],\n",
    "}\n",
    "\n",
    "\n",
    "def vgg11(pretrained=False, **kwargs):\n",
    "    \"\"\"VGG 11-layer model (configuration \"A\")\n",
    "\n",
    "    Args:\n",
    "        pretrained (bool): If True, returns a model pre-trained on ImageNet\n",
    "    \"\"\"\n",
    "    if pretrained:\n",
    "        kwargs['init_weights'] = False\n",
    "    model = VGG(make_layers(cfg['A']), **kwargs)\n",
    "    if pretrained:\n",
    "        model.load_state_dict(model_zoo.load_url(model_urls['vgg11']))\n",
    "    return model\n",
    "\n"
   ]
  },
  {
   "cell_type": "code",
   "execution_count": 45,
   "metadata": {
    "scrolled": false
   },
   "outputs": [
    {
     "data": {
      "text/plain": [
       "Sequential(\n",
       "  (0): Conv2d(3, 64, kernel_size=(3, 3), stride=(1, 1), padding=(1, 1))\n",
       "  (1): ReLU(inplace)\n",
       "  (2): MaxPool2d(kernel_size=2, stride=2, padding=0, dilation=1, ceil_mode=False)\n",
       "  (3): Conv2d(64, 128, kernel_size=(3, 3), stride=(1, 1), padding=(1, 1))\n",
       "  (4): ReLU(inplace)\n",
       "  (5): MaxPool2d(kernel_size=2, stride=2, padding=0, dilation=1, ceil_mode=False)\n",
       "  (6): Conv2d(128, 256, kernel_size=(3, 3), stride=(1, 1), padding=(1, 1))\n",
       "  (7): ReLU(inplace)\n",
       "  (8): Conv2d(256, 256, kernel_size=(3, 3), stride=(1, 1), padding=(1, 1))\n",
       "  (9): ReLU(inplace)\n",
       "  (10): MaxPool2d(kernel_size=2, stride=2, padding=0, dilation=1, ceil_mode=False)\n",
       "  (11): Conv2d(256, 512, kernel_size=(3, 3), stride=(1, 1), padding=(1, 1))\n",
       "  (12): ReLU(inplace)\n",
       "  (13): Conv2d(512, 512, kernel_size=(3, 3), stride=(1, 1), padding=(1, 1))\n",
       "  (14): ReLU(inplace)\n",
       "  (15): MaxPool2d(kernel_size=2, stride=2, padding=0, dilation=1, ceil_mode=False)\n",
       "  (16): Conv2d(512, 512, kernel_size=(3, 3), stride=(1, 1), padding=(1, 1))\n",
       "  (17): ReLU(inplace)\n",
       "  (18): Conv2d(512, 512, kernel_size=(3, 3), stride=(1, 1), padding=(1, 1))\n",
       "  (19): ReLU(inplace)\n",
       "  (20): MaxPool2d(kernel_size=2, stride=2, padding=0, dilation=1, ceil_mode=False)\n",
       ")"
      ]
     },
     "execution_count": 45,
     "metadata": {},
     "output_type": "execute_result"
    }
   ],
   "source": [
    "make_layers(cfg['A'])"
   ]
  },
  {
   "cell_type": "code",
   "execution_count": 40,
   "metadata": {},
   "outputs": [],
   "source": [
    "a = [2,3]"
   ]
  },
  {
   "cell_type": "code",
   "execution_count": 124,
   "metadata": {},
   "outputs": [
    {
     "name": "stdout",
     "output_type": "stream",
     "text": [
      "2 3\n"
     ]
    }
   ],
   "source": [
    "print(*a)"
   ]
  },
  {
   "cell_type": "code",
   "execution_count": 148,
   "metadata": {},
   "outputs": [
    {
     "data": {
      "text/plain": [
       "<generator object Module.parameters at 0x00000000569A90F8>"
      ]
     },
     "execution_count": 148,
     "metadata": {},
     "output_type": "execute_result"
    }
   ],
   "source": [
    "a = model.parameters()\n",
    "a"
   ]
  },
  {
   "cell_type": "code",
   "execution_count": 146,
   "metadata": {},
   "outputs": [
    {
     "data": {
      "text/plain": [
       "<generator object test at 0x00000000673DD3B8>"
      ]
     },
     "execution_count": 146,
     "metadata": {},
     "output_type": "execute_result"
    }
   ],
   "source": [
    "def test():\n",
    "    for i in range(3):\n",
    "        yield i\n",
    "test()"
   ]
  },
  {
   "cell_type": "code",
   "execution_count": 149,
   "metadata": {},
   "outputs": [],
   "source": [
    "def haha():\n",
    "    for i, j in enumerate(model.parameters()):\n",
    "        if i >= 14:\n",
    "            yield i        "
   ]
  },
  {
   "cell_type": "code",
   "execution_count": 150,
   "metadata": {},
   "outputs": [
    {
     "data": {
      "text/plain": [
       "<generator object haha at 0x0000000066B33780>"
      ]
     },
     "execution_count": 150,
     "metadata": {},
     "output_type": "execute_result"
    }
   ],
   "source": [
    "haha()"
   ]
  },
  {
   "cell_type": "code",
   "execution_count": null,
   "metadata": {
    "collapsed": true
   },
   "outputs": [],
   "source": []
  },
  {
   "cell_type": "code",
   "execution_count": null,
   "metadata": {
    "collapsed": true
   },
   "outputs": [],
   "source": []
  }
 ],
 "metadata": {
  "kernelspec": {
   "display_name": "Python 3",
   "language": "python",
   "name": "python3"
  },
  "language_info": {
   "codemirror_mode": {
    "name": "ipython",
    "version": 3
   },
   "file_extension": ".py",
   "mimetype": "text/x-python",
   "name": "python",
   "nbconvert_exporter": "python",
   "pygments_lexer": "ipython3",
   "version": "3.6.2"
  }
 },
 "nbformat": 4,
 "nbformat_minor": 2
}
