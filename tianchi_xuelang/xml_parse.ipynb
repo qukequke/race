{
 "cells": [
  {
   "cell_type": "code",
   "execution_count": 4,
   "metadata": {
    "collapsed": true
   },
   "outputs": [],
   "source": [
    "import os \n",
    "import xml.dom.minidom as xmldom"
   ]
  },
  {
   "cell_type": "code",
   "execution_count": 2,
   "metadata": {},
   "outputs": [
    {
     "data": {
      "text/plain": [
       "['.idea',\n",
       " '.ipynb_checkpoints',\n",
       " 'GBT_26382-2011_worsted_fabric.pdf',\n",
       " 'J01_2018.06.13 13_25_43.xml',\n",
       " 'models',\n",
       " 'qianyi_study.py',\n",
       " 'submission.csv',\n",
       " 'submission1.csv',\n",
       " 'submission2.csv',\n",
       " 'test_imgs',\n",
       " 'train',\n",
       " 'Untitled.ipynb',\n",
       " 'val',\n",
       " 'xml_parse.ipynb',\n",
       " 'xuelang_flaw_introduction_20180710.pdf',\n",
       " 'xuelang_round1_submit_sample_20180709.csv',\n",
       " 'xuelang_round1_test_a_20180709',\n",
       " 'xuelang_round1_test_a_20180709.zip',\n",
       " 'xuelang_round1_train_part1_20180628',\n",
       " 'xuelang_round1_train_part1_20180628.zip',\n",
       " 'xuelang_round1_train_part2_20180705',\n",
       " 'xuelang_round1_train_part2_20180705.zip',\n",
       " 'xuelang_round1_train_part3_20180709',\n",
       " 'xuelang_round1_train_part3_20180709.zip']"
      ]
     },
     "execution_count": 2,
     "metadata": {},
     "output_type": "execute_result"
    }
   ],
   "source": [
    "os.listdir('.')"
   ]
  },
  {
   "cell_type": "code",
   "execution_count": 18,
   "metadata": {},
   "outputs": [
    {
     "name": "stdout",
     "output_type": "stream",
     "text": [
      "xml文件路径： F:\\jupyter_dir\\kaggle\\tianchi_xuelang\\J01_2018.06.13 13_25_43.xml\n",
      "xmldom.parse: <class 'xml.dom.minidom.Document'>\n",
      "domobj.documentElement: <class 'xml.dom.minidom.Element'>\n",
      "getElementsByTagName: <class 'xml.dom.minicompat.NodeList'>\n"
     ]
    }
   ],
   "source": [
    "xmlfilepath = os.path.abspath(\"J01_2018.06.13 13_25_43.xml\")\n",
    "print (\"xml文件路径：\", xmlfilepath)\n",
    "\n",
    "# 得到文档对象\n",
    "domobj = xmldom.parse(xmlfilepath)\n",
    "print(\"xmldom.parse:\", type(domobj))\n",
    "# 得到元素对象\n",
    "elementobj = domobj.documentElement\n",
    "print (\"domobj.documentElement:\", type(elementobj))\n",
    "\n",
    "#获得子标签\n",
    "subElementObj = elementobj.getElementsByTagName(\"filename\")\n",
    "print (\"getElementsByTagName:\", type(subElementObj))"
   ]
  },
  {
   "cell_type": "code",
   "execution_count": 26,
   "metadata": {},
   "outputs": [
    {
     "name": "stdout",
     "output_type": "stream",
     "text": [
      "getElementsByTagName: <class 'xml.dom.minicompat.NodeList'>\n"
     ]
    },
    {
     "data": {
      "text/plain": [
       "[<DOM Element: database at 0x59c1210>]"
      ]
     },
     "execution_count": 26,
     "metadata": {},
     "output_type": "execute_result"
    }
   ],
   "source": [
    "subElementObj = elementobj.getElementsByTagName(\"database\")\n",
    "print (\"getElementsByTagName:\", type(subElementObj))\n",
    "subElementObj"
   ]
  },
  {
   "cell_type": "code",
   "execution_count": 21,
   "metadata": {},
   "outputs": [
    {
     "data": {
      "text/plain": [
       "[<DOM Element: filename at 0x59c12a8>]"
      ]
     },
     "execution_count": 21,
     "metadata": {},
     "output_type": "execute_result"
    }
   ],
   "source": [
    "subElementObj"
   ]
  },
  {
   "cell_type": "code",
   "execution_count": 24,
   "metadata": {},
   "outputs": [
    {
     "data": {
      "text/plain": [
       "'J01_2018.06.13 13_25_43.jpg'"
      ]
     },
     "execution_count": 24,
     "metadata": {},
     "output_type": "execute_result"
    }
   ],
   "source": [
    "subElementObj[0].firstChild.data"
   ]
  },
  {
   "cell_type": "code",
   "execution_count": null,
   "metadata": {
    "collapsed": true
   },
   "outputs": [],
   "source": []
  }
 ],
 "metadata": {
  "kernelspec": {
   "display_name": "Python 3",
   "language": "python",
   "name": "python3"
  },
  "language_info": {
   "codemirror_mode": {
    "name": "ipython",
    "version": 3
   },
   "file_extension": ".py",
   "mimetype": "text/x-python",
   "name": "python",
   "nbconvert_exporter": "python",
   "pygments_lexer": "ipython3",
   "version": "3.6.2"
  }
 },
 "nbformat": 4,
 "nbformat_minor": 2
}
